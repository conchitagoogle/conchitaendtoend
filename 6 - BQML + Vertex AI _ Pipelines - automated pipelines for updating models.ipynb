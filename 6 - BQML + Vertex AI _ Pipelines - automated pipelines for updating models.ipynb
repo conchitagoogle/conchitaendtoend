{
 "cells": [
  {
   "cell_type": "markdown",
   "id": "6b59f1fb-5557-4f89-9ee6-505e1ccc8509",
   "metadata": {},
   "source": [
    "# 03c - BQML + Vertex AI > Pipelines - automated pipelines for updating models\n",
    "\n",
    "As time goes on change occurs:\n",
    "- inputs to our models may shift in distribution compared to when the model was trained - called training-serving skew\n",
    "- inputs to out models may shift over time - called prediction drift\n",
    "- new inputs/features may become available\n",
    "- a better model may be created\n",
    "\n",
    "In the `4` notebook we deployed the model built with BQML in the `5` notebook to a Vertex AI Endpoint for online prediction.  In this notebook we will build a challenger model with the same training data, also using BQML but with a different model type - a deep neural network similar what we build in the `6` series of ntoebooks.  We will construct a Vertex AI Pipeline to orchestrate the process of building the new model, comparing to the deployed mode, and conditionally replacing the deployed model with the new one.  \n",
    "\n",
    "This process could be triggered based on time elapsed, amount of new data, detected training-serving skew or even prediction drift by using Vertex AI Monitoring.  \n",
    "\n",
    "### Prerequisites:\n",
    "-  03a - BigQuery Machine Learning (BQML) - Machine Learning with SQL\n",
    "-  03b - Vertex AI + BQML - Online Predictions with BQML Models\n",
    "\n",
    "### Overview:\n",
    "- Build Custom Pipeline Components\n",
    "    - Use BigQuery ML to Get Predictions and Scikit-Learn to calculate model metrics\n",
    "    - Use BigQuery ML to train a new model - A Deep Neural Network\n",
    "    - Compare model metrics for baseline and challenger model\n",
    "    - Export BigQuery ML model to Google Cloud Storage\n",
    "    - Replace a model deployed to an endpoint (`03b`) with the challenger model, undeploy previous model\n",
    "- Define the Pipeline Flow\n",
    "- Compile the Pipeline\n",
    "- Run the Pipeline in Vertex AI\n",
    "- Get Predictions from the upated Endpoint\n",
    "\n",
    "### Resources:\n",
    "-  [Export formats for BigQuery ML models](https://cloud.google.com/bigquery-ml/docs/exporting-models)\n",
    "-  [Python Client for Vertex AI](https://googleapis.dev/python/aiplatform/latest/aiplatform.html)\n",
    "-  Codelab: [Vertex AI Pipelines Introduction](https://codelabs.developers.google.com/vertex-mlmd-pipelines#0)\n",
    "-  [Vertex AI Prebuilt KFP Components](https://google-cloud-pipeline-components.readthedocs.io/en/google-cloud-pipeline-components-0.2.0/)\n"
   ]
  },
  {
   "cell_type": "markdown",
   "id": "39de3982-2555-4d5c-bae6-8e7d35710557",
   "metadata": {
    "tags": []
   },
   "source": [
    "---\n",
    "## Setup"
   ]
  },
  {
   "cell_type": "markdown",
   "id": "f870ab11-b5dc-4378-830c-b39feaaa5384",
   "metadata": {},
   "source": [
    "inputs:"
   ]
  },
  {
   "cell_type": "code",
   "execution_count": 1,
   "id": "bb73f2d6-e658-445c-8a2a-3c65edfe423a",
   "metadata": {},
   "outputs": [],
   "source": [
    "REGION = 'us-central1'\n",
    "PROJECT_ID='qwiklabs-gcp-04-24efb7132888'\n",
    "DATANAME = 'fraud'\n",
    "NOTEBOOK = '6'\n",
    "\n",
    "# Resources\n",
    "DEPLOY_IMAGE='us-docker.pkg.dev/vertex-ai/prediction/tf2-cpu.2-3:latest'\n",
    "DEPLOY_COMPUTE = 'n1-standard-4'\n",
    "\n",
    "# Model Training\n",
    "VAR_TARGET = 'Class'\n",
    "VAR_OMIT = 'transaction_id' # add more variables to the string with space delimiters"
   ]
  },
  {
   "cell_type": "markdown",
   "id": "6fc1e984-dcde-4348-a72a-6848ac2a7538",
   "metadata": {},
   "source": [
    "packages:"
   ]
  },
  {
   "cell_type": "code",
   "execution_count": 2,
   "id": "968c1a4a-512f-4553-8e8c-130df1100a0e",
   "metadata": {},
   "outputs": [],
   "source": [
    "from google.cloud import aiplatform\n",
    "from datetime import datetime\n",
    "from typing import NamedTuple\n",
    "import kfp # used for dsl.pipeline\n",
    "import kfp.v2.dsl as dsl # used for dsl.component, dsl.Output, dsl.Input, dsl.Artifact, dsl.Model, ...\n",
    "from google_cloud_pipeline_components import aiplatform as gcc_aip\n",
    "\n",
    "from google.cloud import bigquery\n",
    "from google.protobuf import json_format\n",
    "from google.protobuf.struct_pb2 import Value\n",
    "import json\n",
    "import numpy as np"
   ]
  },
  {
   "cell_type": "markdown",
   "id": "216f8e48-531b-45b3-ad29-b64557cab774",
   "metadata": {},
   "source": [
    "clients:"
   ]
  },
  {
   "cell_type": "code",
   "execution_count": 3,
   "id": "cbd2df68-d747-45e7-9448-ec9454508407",
   "metadata": {},
   "outputs": [],
   "source": [
    "aiplatform.init(project=PROJECT_ID, location=REGION)\n",
    "bigquery = bigquery.Client()"
   ]
  },
  {
   "cell_type": "markdown",
   "id": "7f01eff3-dd34-4842-b477-bd9d72314a8c",
   "metadata": {},
   "source": [
    "parameters:"
   ]
  },
  {
   "cell_type": "code",
   "execution_count": 4,
   "id": "a4ca5abe-d716-4376-b7e7-9a8b6f8d45e4",
   "metadata": {},
   "outputs": [],
   "source": [
    "TIMESTAMP = datetime.now().strftime(\"%Y%m%d%H%M%S\")\n",
    "BUCKET = \"conchitademomlopsendtoend\"\n",
    "URI = f\"gs://{BUCKET}/{DATANAME}/models/{NOTEBOOK}\"\n",
    "DIR = f\"temp/{NOTEBOOK}\""
   ]
  },
  {
   "cell_type": "code",
   "execution_count": 5,
   "id": "4b750a1d-5080-4136-a9de-0d345147a26b",
   "metadata": {},
   "outputs": [
    {
     "data": {
      "text/plain": [
       "'948421954571-compute@developer.gserviceaccount.com'"
      ]
     },
     "execution_count": 5,
     "metadata": {},
     "output_type": "execute_result"
    }
   ],
   "source": [
    "# Give service account roles/storage.objectAdmin permissions\n",
    "# Console > IMA > Select Account <projectnumber>-compute@developer.gserviceaccount.com > edit - give role\n",
    "SERVICE_ACCOUNT = !gcloud config list --format='value(core.account)' \n",
    "SERVICE_ACCOUNT = SERVICE_ACCOUNT[0]\n",
    "SERVICE_ACCOUNT"
   ]
  },
  {
   "cell_type": "markdown",
   "id": "81f1d92b-35ec-4925-8aa2-e63a0dd84267",
   "metadata": {},
   "source": [
    "environment:"
   ]
  },
  {
   "cell_type": "code",
   "execution_count": 6,
   "id": "91e41643-6611-41dc-9519-ac0b129457d6",
   "metadata": {},
   "outputs": [],
   "source": [
    "!rm -rf {DIR}\n",
    "!mkdir -p {DIR}"
   ]
  },
  {
   "cell_type": "markdown",
   "id": "b752b9d4-1c24-4bea-ab77-4cd88d7356b6",
   "metadata": {
    "tags": []
   },
   "source": [
    "---\n",
    "## Custom Components (KFP)\n",
    "\n",
    "Vertex AI Pipelines are made up of components that run independently with inputs and outputs that connect to form a graph - the pipeline.  For this notebook workflow the following custom components are used to orchestrate the training of a challenger model, evaluating the challenger and an existing model, comparing them based on model metrics, if the challenger is better then replace the model already deployed on an existing endpoint.  These custom components are constructed as python functions!"
   ]
  },
  {
   "cell_type": "markdown",
   "id": "45ebcab1-0670-4c28-9993-0d8d4bb7a78e",
   "metadata": {},
   "source": [
    "### Model Metrics\n",
    "- Get Predictions for Test data from BigQuery Model\n",
    "- Calculate [average precision for the precision-recall curve](https://scikit-learn.org/stable/modules/generated/sklearn.metrics.average_precision_score.html#sklearn.metrics.average_precision_score)"
   ]
  },
  {
   "cell_type": "code",
   "execution_count": 7,
   "id": "a8ff6d61-6e04-4a2a-92f0-cd1fc508acd3",
   "metadata": {},
   "outputs": [],
   "source": [
    "@dsl.component(\n",
    "    base_image = 'python:3.9',\n",
    "    packages_to_install = ['pandas','pyarrow','sklearn','google-cloud-bigquery']\n",
    ")\n",
    "def bqml_eval(\n",
    "    project: str,\n",
    "    var_target: str,\n",
    "    model: str,\n",
    "    dataname: str,\n",
    "    metrics: dsl.Output[dsl.Metrics],\n",
    "    metricsc: dsl.Output[dsl.ClassificationMetrics]\n",
    ") -> NamedTuple(\"model_eval\", [(\"metric\", float)]):\n",
    "\n",
    "    from collections import namedtuple\n",
    "    from sklearn.metrics import average_precision_score, confusion_matrix\n",
    "    from google.cloud import bigquery\n",
    "    bigquery = bigquery.Client(project = project)\n",
    "\n",
    "    query = f\"\"\"\n",
    "    SELECT {var_target}, predicted_{var_target}, prob, splits \n",
    "    FROM ML.PREDICT (MODEL `{project}.{dataname}.{model}`,(\n",
    "        SELECT *\n",
    "        FROM `{project}.{dataname}.{dataname}_prepped`\n",
    "        WHERE splits = 'TEST')\n",
    "      ), UNNEST(predicted_{var_target}_probs)\n",
    "    WHERE label=1\n",
    "    \"\"\"\n",
    "    pred = bigquery.query(query = query).to_dataframe()\n",
    "\n",
    "    auPRC = average_precision_score(pred[var_target], pred['prob'], average='micro')    \n",
    "    metrics.log_metric('auPRC', auPRC)\n",
    "    metricsc.log_confusion_matrix(['Not Fraud', 'Fraud'], confusion_matrix(pred[var_target], pred[f'predicted_{var_target}']).tolist())\n",
    "    \n",
    "    model_eval = namedtuple(\"model_eval\", [\"metric\"])\n",
    "    return model_eval(metric = float(auPRC))"
   ]
  },
  {
   "cell_type": "markdown",
   "id": "42d2dc53-92e1-477e-9a17-6418ca36ab0d",
   "metadata": {},
   "source": [
    "### BigQuery - Train DNN"
   ]
  },
  {
   "cell_type": "code",
   "execution_count": 8,
   "id": "0bd02b99-213d-454e-a372-eafaf14e56b6",
   "metadata": {},
   "outputs": [],
   "source": [
    "@dsl.component(\n",
    "    base_image = 'python:3.9',\n",
    "    packages_to_install = ['google-cloud-bigquery']\n",
    ")\n",
    "def bqml_dnn(\n",
    "    project: str,\n",
    "    var_target: str,\n",
    "    var_omit: str,\n",
    "    model: str,\n",
    "    dataname: str,\n",
    "    bqml_model: dsl.Output[dsl.Artifact]\n",
    ") -> NamedTuple(\"bqml_training\", [(\"query\", str)]):\n",
    "    \n",
    "    from collections import namedtuple\n",
    "    from google.cloud import bigquery\n",
    "    bigquery = bigquery.Client(project = project)\n",
    "    \n",
    "    query = f\"\"\"\n",
    "    CREATE OR REPLACE MODEL `{project}.{dataname}.{model}`\n",
    "    OPTIONS\n",
    "        (model_type = 'DNN_CLASSIFIER',\n",
    "            auto_class_weights = FALSE,\n",
    "            input_label_cols = ['{var_target}'],\n",
    "            data_split_col = 'custom_splits',\n",
    "            data_split_method = 'CUSTOM',\n",
    "            EARLY_STOP = FALSE,\n",
    "            OPTIMIZER = 'SGD',\n",
    "            HIDDEN_UNITS = [2],\n",
    "            LEARN_RATE = 0.001,\n",
    "            BATCH_SIZE = 100,\n",
    "            DROPOUT = 0.25,\n",
    "            ACTIVATION_FN = 'SIGMOID',\n",
    "            MAX_ITERATIONS = 10\n",
    "        ) AS\n",
    "    SELECT * EXCEPT({','.join(var_omit.split())}, splits),\n",
    "        CASE\n",
    "            WHEN splits = 'TRAIN' THEN FALSE\n",
    "            ELSE TRUE\n",
    "        END AS custom_splits\n",
    "    FROM `{project}.{dataname}.{dataname}_prepped`\n",
    "    WHERE splits != 'TEST'\n",
    "    \"\"\"\n",
    "    job = bigquery.query(query = query)\n",
    "    job.result()\n",
    "    bqml_model.uri = f\"bq://{project}.{dataname}.{model}\"\n",
    "    \n",
    "    result = namedtuple(\"bqml_training\", [\"query\"])\n",
    "                \n",
    "    return result(query = str(query))"
   ]
  },
  {
   "cell_type": "markdown",
   "id": "3f11d778-fea2-4bfd-a2d3-a896e4e4d1af",
   "metadata": {},
   "source": [
    "### Compare Models"
   ]
  },
  {
   "cell_type": "code",
   "execution_count": 9,
   "id": "e6ce2e3d-30a8-43dd-90b6-89f0c978ebd6",
   "metadata": {},
   "outputs": [],
   "source": [
    "@dsl.component\n",
    "def model_compare(\n",
    "    base_metric: float,\n",
    "    challenger_metric: float,\n",
    ") -> bool: \n",
    "    \n",
    "    if base_metric < challenger_metric:\n",
    "        replace = True\n",
    "    else:\n",
    "        replace = False\n",
    "    \n",
    "    return replace"
   ]
  },
  {
   "cell_type": "markdown",
   "id": "d1bf22f1-8e7b-4697-916a-b02c9fb127c9",
   "metadata": {},
   "source": [
    "### Export BQML Model"
   ]
  },
  {
   "cell_type": "code",
   "execution_count": 10,
   "id": "b3ac3753-f7ee-437c-bcf6-63deed2a2109",
   "metadata": {},
   "outputs": [],
   "source": [
    "@dsl.component(\n",
    "    base_image = 'python:3.9',\n",
    "    packages_to_install = ['google-cloud-bigquery']\n",
    ")\n",
    "def bqml_export(\n",
    "    project: str,\n",
    "    export_location: str,\n",
    "    bqml_model: dsl.Input[dsl.Model],\n",
    "    tf_model: dsl.Output[dsl.Artifact],  \n",
    "):\n",
    "    \n",
    "    from google.cloud import bigquery\n",
    "    bigquery = bigquery.Client(project = project)\n",
    "    \n",
    "    bqml_model_name = bqml_model.uri.split(\"/\")[-1]\n",
    "    export = bigquery.query(query = f\"EXPORT MODEL `{bqml_model_name}` OPTIONS(URI = '{export_location}')\")\n",
    "    export.result()\n",
    "    \n",
    "    tf_model.uri = export_location"
   ]
  },
  {
   "cell_type": "markdown",
   "id": "d5bdb4a1-a1b7-4403-bc44-bce46b981c91",
   "metadata": {},
   "source": [
    "### Replace Model On Endpoint"
   ]
  },
  {
   "cell_type": "code",
   "execution_count": 11,
   "id": "2433281e-390d-4ab5-bcfa-c171a72f7b2d",
   "metadata": {},
   "outputs": [],
   "source": [
    "@dsl.component(\n",
    "    packages_to_install = ['google-cloud-aiplatform'],\n",
    "    base_image = 'python:3.9'\n",
    ")\n",
    "def endpoint_update(\n",
    "    project: str,\n",
    "    region: str,\n",
    "    endpoint_prefix: str,\n",
    "    newmodel: dsl.Input[dsl.Model],\n",
    "    display_name: str,\n",
    "    deploy_machine: str,\n",
    "    deploy_container: str,\n",
    "    label: str\n",
    "):\n",
    "    \n",
    "    from google.cloud import aiplatform\n",
    "    aiplatform.init(project = project, location = region)\n",
    "\n",
    "    # upload new model (03c)\n",
    "    model = aiplatform.Model.upload(\n",
    "        display_name = display_name,\n",
    "        serving_container_image_uri = deploy_container,\n",
    "        artifact_uri = newmodel.uri,\n",
    "        labels = {'notebook':f'{label}'}\n",
    "    )\n",
    "    \n",
    "    # find endpoint from notebook 03b\n",
    "    for e in aiplatform.Endpoint.list():\n",
    "        if e.display_name.startswith(endpoint_prefix): endpoint = e\n",
    "    print(endpoint.display_name)\n",
    "\n",
    "    # list model(s) on 03b endpoint\n",
    "    models = endpoint.list_models()\n",
    "    if len(models) == 1:\n",
    "        oldmodel = models[0]\n",
    "    print(oldmodel)\n",
    "    \n",
    "    # deploy 03c model to endpoint with traffic_split = 100\n",
    "    endpoint.deploy(\n",
    "        model = model,\n",
    "        deployed_model_display_name = display_name,\n",
    "        traffic_percentage = 100,\n",
    "        machine_type = deploy_machine,\n",
    "        min_replica_count = 1,\n",
    "        max_replica_count = 1\n",
    "    )\n",
    "    \n",
    "    # undeploy 03b model\n",
    "    endpoint.undeploy(\n",
    "        deployed_model_id = oldmodel.id\n",
    "    )"
   ]
  },
  {
   "cell_type": "markdown",
   "id": "b9535c2f-0f05-4c15-89de-c6cf135f7dd3",
   "metadata": {},
   "source": [
    "---\n",
    "## Pipeline (KFP) Definition"
   ]
  },
  {
   "cell_type": "code",
   "execution_count": 12,
   "id": "8d0342ef-5792-4060-afbd-01ca1cf9ef91",
   "metadata": {},
   "outputs": [],
   "source": [
    "@dsl.pipeline(\n",
    "    name = f'kfp-{NOTEBOOK}-{DATANAME}-{TIMESTAMP}', \n",
    "    pipeline_root = URI+'/'+str(TIMESTAMP)+'/kfp/'\n",
    ")\n",
    "def pipeline(\n",
    "    endpoint_prefix: str,\n",
    "    project: str = PROJECT_ID,\n",
    "    region: str = REGION,\n",
    "    dataname: str = DATANAME,\n",
    "    display_name: str = f'{NOTEBOOK}_{DATANAME}_{TIMESTAMP}',\n",
    "    deploy_machine: str = DEPLOY_COMPUTE,\n",
    "    deploy_container: str = DEPLOY_IMAGE,\n",
    "    bq_source: str = f'bq://{PROJECT_ID}.{DATANAME}.{DATANAME}_prepped',\n",
    "    var_target: str = VAR_TARGET,\n",
    "    var_omit: str = VAR_OMIT,\n",
    "    uri: str = URI,\n",
    "    label: str = NOTEBOOK \n",
    "):\n",
    "        \n",
    "    # get AUC for current model\n",
    "    base_model_eval = bqml_eval(\n",
    "        project = project,\n",
    "        var_target = var_target,\n",
    "        model = f'{dataname}_lr',\n",
    "        dataname = dataname\n",
    "    )\n",
    "    \n",
    "    # train challenger model with BQML\n",
    "    challenger_model = bqml_dnn(\n",
    "        project = project,\n",
    "        var_target = var_target,\n",
    "        var_omit = var_omit,\n",
    "        model = f'{dataname}_dnn',\n",
    "        dataname = dataname,\n",
    "    )\n",
    "    \n",
    "    # get AUC for challenger model\n",
    "    challenger_model_eval = bqml_eval(\n",
    "        project = project,\n",
    "        var_target = var_target,\n",
    "        model = f'{dataname}_dnn',\n",
    "        dataname = dataname\n",
    "    )\n",
    "    challenger_model_eval.after(challenger_model).execution_options.caching_strategy.max_cache_staleness = \"P0D\"\n",
    "    \n",
    "    # compare models\n",
    "    compare = model_compare(\n",
    "        base_metric = base_model_eval.outputs[\"metric\"],\n",
    "        challenger_metric = challenger_model_eval.outputs[\"metric\"]\n",
    "    )\n",
    "    \n",
    "    # conditional deployment\n",
    "    with dsl.Condition(\n",
    "        compare.output == 'true',\n",
    "        name = \"replace_model\"\n",
    "    ):\n",
    "        # export BQML model\n",
    "        export = bqml_export(\n",
    "            project = project,\n",
    "            export_location = uri,\n",
    "            bqml_model = challenger_model.outputs[\"bqml_model\"]\n",
    "        )\n",
    "        \n",
    "        # replace model on endpoint (03b)\n",
    "        replace = endpoint_update(\n",
    "            project = project,\n",
    "            region = region,\n",
    "            endpoint_prefix = endpoint_prefix,\n",
    "            newmodel = export.outputs[\"tf_model\"],\n",
    "            display_name = display_name,\n",
    "            deploy_machine = deploy_machine,\n",
    "            deploy_container = deploy_container,\n",
    "            label = label\n",
    "        )"
   ]
  },
  {
   "cell_type": "markdown",
   "id": "b6bfa7eb-910f-47b8-b1d2-a2ab0ce552ce",
   "metadata": {},
   "source": [
    "---\n",
    "## Compile Pipeline"
   ]
  },
  {
   "cell_type": "code",
   "execution_count": 13,
   "id": "bf89c7db-130a-4bbf-a358-ca99b2bd4e61",
   "metadata": {},
   "outputs": [
    {
     "name": "stderr",
     "output_type": "stream",
     "text": [
      "/opt/conda/lib/python3.7/site-packages/kfp/v2/compiler/compiler.py:1266: FutureWarning: APIs imported from the v1 namespace (e.g. kfp.dsl, kfp.components, etc) will not be supported by the v2 compiler since v2.0.0\n",
      "  category=FutureWarning,\n"
     ]
    }
   ],
   "source": [
    "kfp.v2.compiler.Compiler().compile(\n",
    "    pipeline_func = pipeline,\n",
    "    package_path = f\"{DIR}/{NOTEBOOK}.json\"\n",
    ")"
   ]
  },
  {
   "cell_type": "markdown",
   "id": "79b1e6b7-b504-4317-95f8-bca787948dcb",
   "metadata": {},
   "source": [
    "Move compiled pipeline files to GCS Bucket"
   ]
  },
  {
   "cell_type": "code",
   "execution_count": 14,
   "id": "d316e8f9-3eb1-46df-81bc-a3cf6d458922",
   "metadata": {},
   "outputs": [
    {
     "name": "stdout",
     "output_type": "stream",
     "text": [
      "Copying file://temp/6/6.json [Content-Type=application/json]...\n",
      "/ [1 files][ 31.0 KiB/ 31.0 KiB]                                                \n",
      "Operation completed over 1 objects/31.0 KiB.                                     \n"
     ]
    }
   ],
   "source": [
    "!gsutil cp {DIR}/{NOTEBOOK}.json {URI}/{TIMESTAMP}/kfp/"
   ]
  },
  {
   "cell_type": "markdown",
   "id": "bf8d0797-3f30-41b4-82af-a82c33f26133",
   "metadata": {},
   "source": [
    "---\n",
    "## Create Vertex AI Pipeline Job"
   ]
  },
  {
   "cell_type": "code",
   "execution_count": 15,
   "id": "e38dd6b9-9297-402d-9856-cf3731ccaeb3",
   "metadata": {},
   "outputs": [],
   "source": [
    "pipeline = aiplatform.PipelineJob(\n",
    "    display_name = f'{NOTEBOOK}_{DATANAME}_{TIMESTAMP}',\n",
    "    template_path = f\"{URI}/{TIMESTAMP}/kfp/{NOTEBOOK}.json\",\n",
    "    pipeline_root = f\"{URI}/{TIMESTAMP}/kfp/\",\n",
    "    parameter_values = {\"endpoint_prefix\": \"03b\"},\n",
    "    enable_caching = False,\n",
    "    labels = {'notebook':f'{NOTEBOOK}'}\n",
    ")"
   ]
  },
  {
   "cell_type": "code",
   "execution_count": null,
   "id": "51c4118c-616f-4285-bb1d-928f954ad9c9",
   "metadata": {},
   "outputs": [
    {
     "name": "stdout",
     "output_type": "stream",
     "text": [
      "INFO:google.cloud.aiplatform.pipeline_jobs:Creating PipelineJob\n",
      "INFO:google.cloud.aiplatform.pipeline_jobs:PipelineJob created. Resource name: projects/948421954571/locations/us-central1/pipelineJobs/kfp-6-fraud-20220320120137-20220320120202\n",
      "INFO:google.cloud.aiplatform.pipeline_jobs:To use this PipelineJob in another session:\n",
      "INFO:google.cloud.aiplatform.pipeline_jobs:pipeline_job = aiplatform.PipelineJob.get('projects/948421954571/locations/us-central1/pipelineJobs/kfp-6-fraud-20220320120137-20220320120202')\n",
      "INFO:google.cloud.aiplatform.pipeline_jobs:View Pipeline Job:\n",
      "https://console.cloud.google.com/vertex-ai/locations/us-central1/pipelines/runs/kfp-6-fraud-20220320120137-20220320120202?project=948421954571\n",
      "INFO:google.cloud.aiplatform.pipeline_jobs:PipelineJob projects/948421954571/locations/us-central1/pipelineJobs/kfp-6-fraud-20220320120137-20220320120202 current state:\n",
      "PipelineState.PIPELINE_STATE_RUNNING\n",
      "INFO:google.cloud.aiplatform.pipeline_jobs:PipelineJob projects/948421954571/locations/us-central1/pipelineJobs/kfp-6-fraud-20220320120137-20220320120202 current state:\n",
      "PipelineState.PIPELINE_STATE_RUNNING\n",
      "INFO:google.cloud.aiplatform.pipeline_jobs:PipelineJob projects/948421954571/locations/us-central1/pipelineJobs/kfp-6-fraud-20220320120137-20220320120202 current state:\n",
      "PipelineState.PIPELINE_STATE_RUNNING\n",
      "INFO:google.cloud.aiplatform.pipeline_jobs:PipelineJob projects/948421954571/locations/us-central1/pipelineJobs/kfp-6-fraud-20220320120137-20220320120202 current state:\n",
      "PipelineState.PIPELINE_STATE_RUNNING\n",
      "INFO:google.cloud.aiplatform.pipeline_jobs:PipelineJob projects/948421954571/locations/us-central1/pipelineJobs/kfp-6-fraud-20220320120137-20220320120202 current state:\n",
      "PipelineState.PIPELINE_STATE_RUNNING\n",
      "INFO:google.cloud.aiplatform.pipeline_jobs:PipelineJob projects/948421954571/locations/us-central1/pipelineJobs/kfp-6-fraud-20220320120137-20220320120202 current state:\n",
      "PipelineState.PIPELINE_STATE_RUNNING\n",
      "INFO:google.cloud.aiplatform.pipeline_jobs:PipelineJob projects/948421954571/locations/us-central1/pipelineJobs/kfp-6-fraud-20220320120137-20220320120202 current state:\n",
      "PipelineState.PIPELINE_STATE_RUNNING\n",
      "INFO:google.cloud.aiplatform.pipeline_jobs:PipelineJob projects/948421954571/locations/us-central1/pipelineJobs/kfp-6-fraud-20220320120137-20220320120202 current state:\n",
      "PipelineState.PIPELINE_STATE_RUNNING\n",
      "INFO:google.cloud.aiplatform.pipeline_jobs:PipelineJob projects/948421954571/locations/us-central1/pipelineJobs/kfp-6-fraud-20220320120137-20220320120202 current state:\n",
      "PipelineState.PIPELINE_STATE_RUNNING\n",
      "INFO:google.cloud.aiplatform.pipeline_jobs:PipelineJob projects/948421954571/locations/us-central1/pipelineJobs/kfp-6-fraud-20220320120137-20220320120202 current state:\n",
      "PipelineState.PIPELINE_STATE_RUNNING\n",
      "INFO:google.cloud.aiplatform.pipeline_jobs:PipelineJob projects/948421954571/locations/us-central1/pipelineJobs/kfp-6-fraud-20220320120137-20220320120202 current state:\n",
      "PipelineState.PIPELINE_STATE_RUNNING\n",
      "INFO:google.cloud.aiplatform.pipeline_jobs:PipelineJob projects/948421954571/locations/us-central1/pipelineJobs/kfp-6-fraud-20220320120137-20220320120202 current state:\n",
      "PipelineState.PIPELINE_STATE_RUNNING\n",
      "INFO:google.cloud.aiplatform.pipeline_jobs:PipelineJob projects/948421954571/locations/us-central1/pipelineJobs/kfp-6-fraud-20220320120137-20220320120202 current state:\n",
      "PipelineState.PIPELINE_STATE_RUNNING\n",
      "INFO:google.cloud.aiplatform.pipeline_jobs:PipelineJob projects/948421954571/locations/us-central1/pipelineJobs/kfp-6-fraud-20220320120137-20220320120202 current state:\n",
      "PipelineState.PIPELINE_STATE_RUNNING\n",
      "INFO:google.cloud.aiplatform.pipeline_jobs:PipelineJob projects/948421954571/locations/us-central1/pipelineJobs/kfp-6-fraud-20220320120137-20220320120202 current state:\n",
      "PipelineState.PIPELINE_STATE_RUNNING\n",
      "INFO:google.cloud.aiplatform.pipeline_jobs:PipelineJob projects/948421954571/locations/us-central1/pipelineJobs/kfp-6-fraud-20220320120137-20220320120202 current state:\n",
      "PipelineState.PIPELINE_STATE_RUNNING\n",
      "INFO:google.cloud.aiplatform.pipeline_jobs:PipelineJob projects/948421954571/locations/us-central1/pipelineJobs/kfp-6-fraud-20220320120137-20220320120202 current state:\n",
      "PipelineState.PIPELINE_STATE_RUNNING\n",
      "INFO:google.cloud.aiplatform.pipeline_jobs:PipelineJob projects/948421954571/locations/us-central1/pipelineJobs/kfp-6-fraud-20220320120137-20220320120202 current state:\n",
      "PipelineState.PIPELINE_STATE_RUNNING\n",
      "INFO:google.cloud.aiplatform.pipeline_jobs:PipelineJob projects/948421954571/locations/us-central1/pipelineJobs/kfp-6-fraud-20220320120137-20220320120202 current state:\n",
      "PipelineState.PIPELINE_STATE_RUNNING\n",
      "INFO:google.cloud.aiplatform.pipeline_jobs:PipelineJob projects/948421954571/locations/us-central1/pipelineJobs/kfp-6-fraud-20220320120137-20220320120202 current state:\n",
      "PipelineState.PIPELINE_STATE_RUNNING\n",
      "INFO:google.cloud.aiplatform.pipeline_jobs:PipelineJob projects/948421954571/locations/us-central1/pipelineJobs/kfp-6-fraud-20220320120137-20220320120202 current state:\n",
      "PipelineState.PIPELINE_STATE_RUNNING\n",
      "INFO:google.cloud.aiplatform.pipeline_jobs:PipelineJob projects/948421954571/locations/us-central1/pipelineJobs/kfp-6-fraud-20220320120137-20220320120202 current state:\n",
      "PipelineState.PIPELINE_STATE_RUNNING\n",
      "INFO:google.cloud.aiplatform.pipeline_jobs:PipelineJob projects/948421954571/locations/us-central1/pipelineJobs/kfp-6-fraud-20220320120137-20220320120202 current state:\n",
      "PipelineState.PIPELINE_STATE_RUNNING\n",
      "INFO:google.cloud.aiplatform.pipeline_jobs:PipelineJob projects/948421954571/locations/us-central1/pipelineJobs/kfp-6-fraud-20220320120137-20220320120202 current state:\n",
      "PipelineState.PIPELINE_STATE_RUNNING\n",
      "INFO:google.cloud.aiplatform.pipeline_jobs:PipelineJob projects/948421954571/locations/us-central1/pipelineJobs/kfp-6-fraud-20220320120137-20220320120202 current state:\n",
      "PipelineState.PIPELINE_STATE_RUNNING\n",
      "INFO:google.cloud.aiplatform.pipeline_jobs:PipelineJob projects/948421954571/locations/us-central1/pipelineJobs/kfp-6-fraud-20220320120137-20220320120202 current state:\n",
      "PipelineState.PIPELINE_STATE_RUNNING\n",
      "INFO:google.cloud.aiplatform.pipeline_jobs:PipelineJob projects/948421954571/locations/us-central1/pipelineJobs/kfp-6-fraud-20220320120137-20220320120202 current state:\n",
      "PipelineState.PIPELINE_STATE_RUNNING\n",
      "INFO:google.cloud.aiplatform.pipeline_jobs:PipelineJob projects/948421954571/locations/us-central1/pipelineJobs/kfp-6-fraud-20220320120137-20220320120202 current state:\n",
      "PipelineState.PIPELINE_STATE_RUNNING\n",
      "INFO:google.cloud.aiplatform.pipeline_jobs:PipelineJob projects/948421954571/locations/us-central1/pipelineJobs/kfp-6-fraud-20220320120137-20220320120202 current state:\n",
      "PipelineState.PIPELINE_STATE_RUNNING\n",
      "INFO:google.cloud.aiplatform.pipeline_jobs:PipelineJob projects/948421954571/locations/us-central1/pipelineJobs/kfp-6-fraud-20220320120137-20220320120202 current state:\n",
      "PipelineState.PIPELINE_STATE_RUNNING\n",
      "INFO:google.cloud.aiplatform.pipeline_jobs:PipelineJob projects/948421954571/locations/us-central1/pipelineJobs/kfp-6-fraud-20220320120137-20220320120202 current state:\n",
      "PipelineState.PIPELINE_STATE_RUNNING\n",
      "INFO:google.cloud.aiplatform.pipeline_jobs:PipelineJob projects/948421954571/locations/us-central1/pipelineJobs/kfp-6-fraud-20220320120137-20220320120202 current state:\n",
      "PipelineState.PIPELINE_STATE_RUNNING\n",
      "INFO:google.cloud.aiplatform.pipeline_jobs:PipelineJob projects/948421954571/locations/us-central1/pipelineJobs/kfp-6-fraud-20220320120137-20220320120202 current state:\n",
      "PipelineState.PIPELINE_STATE_RUNNING\n",
      "INFO:google.cloud.aiplatform.pipeline_jobs:PipelineJob projects/948421954571/locations/us-central1/pipelineJobs/kfp-6-fraud-20220320120137-20220320120202 current state:\n",
      "PipelineState.PIPELINE_STATE_RUNNING\n",
      "INFO:google.cloud.aiplatform.pipeline_jobs:PipelineJob projects/948421954571/locations/us-central1/pipelineJobs/kfp-6-fraud-20220320120137-20220320120202 current state:\n",
      "PipelineState.PIPELINE_STATE_RUNNING\n",
      "INFO:google.cloud.aiplatform.pipeline_jobs:PipelineJob projects/948421954571/locations/us-central1/pipelineJobs/kfp-6-fraud-20220320120137-20220320120202 current state:\n",
      "PipelineState.PIPELINE_STATE_RUNNING\n",
      "INFO:google.cloud.aiplatform.pipeline_jobs:PipelineJob projects/948421954571/locations/us-central1/pipelineJobs/kfp-6-fraud-20220320120137-20220320120202 current state:\n",
      "PipelineState.PIPELINE_STATE_RUNNING\n",
      "INFO:google.cloud.aiplatform.pipeline_jobs:PipelineJob projects/948421954571/locations/us-central1/pipelineJobs/kfp-6-fraud-20220320120137-20220320120202 current state:\n",
      "PipelineState.PIPELINE_STATE_RUNNING\n",
      "INFO:google.cloud.aiplatform.pipeline_jobs:PipelineJob projects/948421954571/locations/us-central1/pipelineJobs/kfp-6-fraud-20220320120137-20220320120202 current state:\n",
      "PipelineState.PIPELINE_STATE_RUNNING\n",
      "INFO:google.cloud.aiplatform.pipeline_jobs:PipelineJob projects/948421954571/locations/us-central1/pipelineJobs/kfp-6-fraud-20220320120137-20220320120202 current state:\n",
      "PipelineState.PIPELINE_STATE_RUNNING\n",
      "INFO:google.cloud.aiplatform.pipeline_jobs:PipelineJob projects/948421954571/locations/us-central1/pipelineJobs/kfp-6-fraud-20220320120137-20220320120202 current state:\n",
      "PipelineState.PIPELINE_STATE_RUNNING\n",
      "INFO:google.cloud.aiplatform.pipeline_jobs:PipelineJob projects/948421954571/locations/us-central1/pipelineJobs/kfp-6-fraud-20220320120137-20220320120202 current state:\n",
      "PipelineState.PIPELINE_STATE_RUNNING\n",
      "INFO:google.cloud.aiplatform.pipeline_jobs:PipelineJob projects/948421954571/locations/us-central1/pipelineJobs/kfp-6-fraud-20220320120137-20220320120202 current state:\n",
      "PipelineState.PIPELINE_STATE_RUNNING\n",
      "INFO:google.cloud.aiplatform.pipeline_jobs:PipelineJob projects/948421954571/locations/us-central1/pipelineJobs/kfp-6-fraud-20220320120137-20220320120202 current state:\n",
      "PipelineState.PIPELINE_STATE_RUNNING\n",
      "INFO:google.cloud.aiplatform.pipeline_jobs:PipelineJob projects/948421954571/locations/us-central1/pipelineJobs/kfp-6-fraud-20220320120137-20220320120202 current state:\n",
      "PipelineState.PIPELINE_STATE_RUNNING\n",
      "INFO:google.cloud.aiplatform.pipeline_jobs:PipelineJob projects/948421954571/locations/us-central1/pipelineJobs/kfp-6-fraud-20220320120137-20220320120202 current state:\n",
      "PipelineState.PIPELINE_STATE_RUNNING\n",
      "INFO:google.cloud.aiplatform.pipeline_jobs:PipelineJob projects/948421954571/locations/us-central1/pipelineJobs/kfp-6-fraud-20220320120137-20220320120202 current state:\n",
      "PipelineState.PIPELINE_STATE_RUNNING\n",
      "INFO:google.cloud.aiplatform.pipeline_jobs:PipelineJob projects/948421954571/locations/us-central1/pipelineJobs/kfp-6-fraud-20220320120137-20220320120202 current state:\n",
      "PipelineState.PIPELINE_STATE_RUNNING\n",
      "INFO:google.cloud.aiplatform.pipeline_jobs:PipelineJob projects/948421954571/locations/us-central1/pipelineJobs/kfp-6-fraud-20220320120137-20220320120202 current state:\n",
      "PipelineState.PIPELINE_STATE_RUNNING\n",
      "INFO:google.cloud.aiplatform.pipeline_jobs:PipelineJob projects/948421954571/locations/us-central1/pipelineJobs/kfp-6-fraud-20220320120137-20220320120202 current state:\n",
      "PipelineState.PIPELINE_STATE_RUNNING\n",
      "INFO:google.cloud.aiplatform.pipeline_jobs:PipelineJob projects/948421954571/locations/us-central1/pipelineJobs/kfp-6-fraud-20220320120137-20220320120202 current state:\n",
      "PipelineState.PIPELINE_STATE_RUNNING\n",
      "INFO:google.cloud.aiplatform.pipeline_jobs:PipelineJob projects/948421954571/locations/us-central1/pipelineJobs/kfp-6-fraud-20220320120137-20220320120202 current state:\n",
      "PipelineState.PIPELINE_STATE_RUNNING\n",
      "INFO:google.cloud.aiplatform.pipeline_jobs:PipelineJob projects/948421954571/locations/us-central1/pipelineJobs/kfp-6-fraud-20220320120137-20220320120202 current state:\n",
      "PipelineState.PIPELINE_STATE_RUNNING\n",
      "INFO:google.cloud.aiplatform.pipeline_jobs:PipelineJob projects/948421954571/locations/us-central1/pipelineJobs/kfp-6-fraud-20220320120137-20220320120202 current state:\n",
      "PipelineState.PIPELINE_STATE_RUNNING\n",
      "INFO:google.cloud.aiplatform.pipeline_jobs:PipelineJob projects/948421954571/locations/us-central1/pipelineJobs/kfp-6-fraud-20220320120137-20220320120202 current state:\n",
      "PipelineState.PIPELINE_STATE_RUNNING\n",
      "INFO:google.cloud.aiplatform.pipeline_jobs:PipelineJob projects/948421954571/locations/us-central1/pipelineJobs/kfp-6-fraud-20220320120137-20220320120202 current state:\n",
      "PipelineState.PIPELINE_STATE_RUNNING\n",
      "INFO:google.cloud.aiplatform.pipeline_jobs:PipelineJob projects/948421954571/locations/us-central1/pipelineJobs/kfp-6-fraud-20220320120137-20220320120202 current state:\n",
      "PipelineState.PIPELINE_STATE_RUNNING\n",
      "INFO:google.cloud.aiplatform.pipeline_jobs:PipelineJob projects/948421954571/locations/us-central1/pipelineJobs/kfp-6-fraud-20220320120137-20220320120202 current state:\n",
      "PipelineState.PIPELINE_STATE_RUNNING\n",
      "INFO:google.cloud.aiplatform.pipeline_jobs:PipelineJob projects/948421954571/locations/us-central1/pipelineJobs/kfp-6-fraud-20220320120137-20220320120202 current state:\n",
      "PipelineState.PIPELINE_STATE_RUNNING\n",
      "INFO:google.cloud.aiplatform.pipeline_jobs:PipelineJob projects/948421954571/locations/us-central1/pipelineJobs/kfp-6-fraud-20220320120137-20220320120202 current state:\n",
      "PipelineState.PIPELINE_STATE_RUNNING\n",
      "INFO:google.cloud.aiplatform.pipeline_jobs:PipelineJob projects/948421954571/locations/us-central1/pipelineJobs/kfp-6-fraud-20220320120137-20220320120202 current state:\n",
      "PipelineState.PIPELINE_STATE_RUNNING\n",
      "INFO:google.cloud.aiplatform.pipeline_jobs:PipelineJob projects/948421954571/locations/us-central1/pipelineJobs/kfp-6-fraud-20220320120137-20220320120202 current state:\n",
      "PipelineState.PIPELINE_STATE_RUNNING\n",
      "INFO:google.cloud.aiplatform.pipeline_jobs:PipelineJob projects/948421954571/locations/us-central1/pipelineJobs/kfp-6-fraud-20220320120137-20220320120202 current state:\n",
      "PipelineState.PIPELINE_STATE_RUNNING\n",
      "INFO:google.cloud.aiplatform.pipeline_jobs:PipelineJob projects/948421954571/locations/us-central1/pipelineJobs/kfp-6-fraud-20220320120137-20220320120202 current state:\n",
      "PipelineState.PIPELINE_STATE_RUNNING\n",
      "INFO:google.cloud.aiplatform.pipeline_jobs:PipelineJob projects/948421954571/locations/us-central1/pipelineJobs/kfp-6-fraud-20220320120137-20220320120202 current state:\n",
      "PipelineState.PIPELINE_STATE_RUNNING\n",
      "INFO:google.cloud.aiplatform.pipeline_jobs:PipelineJob projects/948421954571/locations/us-central1/pipelineJobs/kfp-6-fraud-20220320120137-20220320120202 current state:\n",
      "PipelineState.PIPELINE_STATE_RUNNING\n",
      "INFO:google.cloud.aiplatform.pipeline_jobs:PipelineJob projects/948421954571/locations/us-central1/pipelineJobs/kfp-6-fraud-20220320120137-20220320120202 current state:\n",
      "PipelineState.PIPELINE_STATE_RUNNING\n",
      "INFO:google.cloud.aiplatform.pipeline_jobs:PipelineJob projects/948421954571/locations/us-central1/pipelineJobs/kfp-6-fraud-20220320120137-20220320120202 current state:\n",
      "PipelineState.PIPELINE_STATE_RUNNING\n",
      "INFO:google.cloud.aiplatform.pipeline_jobs:PipelineJob projects/948421954571/locations/us-central1/pipelineJobs/kfp-6-fraud-20220320120137-20220320120202 current state:\n",
      "PipelineState.PIPELINE_STATE_RUNNING\n",
      "INFO:google.cloud.aiplatform.pipeline_jobs:PipelineJob projects/948421954571/locations/us-central1/pipelineJobs/kfp-6-fraud-20220320120137-20220320120202 current state:\n",
      "PipelineState.PIPELINE_STATE_RUNNING\n",
      "INFO:google.cloud.aiplatform.pipeline_jobs:PipelineJob projects/948421954571/locations/us-central1/pipelineJobs/kfp-6-fraud-20220320120137-20220320120202 current state:\n",
      "PipelineState.PIPELINE_STATE_RUNNING\n",
      "INFO:google.cloud.aiplatform.pipeline_jobs:PipelineJob projects/948421954571/locations/us-central1/pipelineJobs/kfp-6-fraud-20220320120137-20220320120202 current state:\n",
      "PipelineState.PIPELINE_STATE_RUNNING\n",
      "INFO:google.cloud.aiplatform.pipeline_jobs:PipelineJob projects/948421954571/locations/us-central1/pipelineJobs/kfp-6-fraud-20220320120137-20220320120202 current state:\n",
      "PipelineState.PIPELINE_STATE_RUNNING\n",
      "INFO:google.cloud.aiplatform.pipeline_jobs:PipelineJob projects/948421954571/locations/us-central1/pipelineJobs/kfp-6-fraud-20220320120137-20220320120202 current state:\n",
      "PipelineState.PIPELINE_STATE_RUNNING\n",
      "INFO:google.cloud.aiplatform.pipeline_jobs:PipelineJob projects/948421954571/locations/us-central1/pipelineJobs/kfp-6-fraud-20220320120137-20220320120202 current state:\n",
      "PipelineState.PIPELINE_STATE_RUNNING\n",
      "INFO:google.cloud.aiplatform.pipeline_jobs:PipelineJob projects/948421954571/locations/us-central1/pipelineJobs/kfp-6-fraud-20220320120137-20220320120202 current state:\n",
      "PipelineState.PIPELINE_STATE_RUNNING\n",
      "INFO:google.cloud.aiplatform.pipeline_jobs:PipelineJob projects/948421954571/locations/us-central1/pipelineJobs/kfp-6-fraud-20220320120137-20220320120202 current state:\n",
      "PipelineState.PIPELINE_STATE_RUNNING\n",
      "INFO:google.cloud.aiplatform.pipeline_jobs:PipelineJob projects/948421954571/locations/us-central1/pipelineJobs/kfp-6-fraud-20220320120137-20220320120202 current state:\n",
      "PipelineState.PIPELINE_STATE_RUNNING\n",
      "INFO:google.cloud.aiplatform.pipeline_jobs:PipelineJob projects/948421954571/locations/us-central1/pipelineJobs/kfp-6-fraud-20220320120137-20220320120202 current state:\n",
      "PipelineState.PIPELINE_STATE_RUNNING\n",
      "INFO:google.cloud.aiplatform.pipeline_jobs:PipelineJob projects/948421954571/locations/us-central1/pipelineJobs/kfp-6-fraud-20220320120137-20220320120202 current state:\n",
      "PipelineState.PIPELINE_STATE_RUNNING\n",
      "INFO:google.cloud.aiplatform.pipeline_jobs:PipelineJob projects/948421954571/locations/us-central1/pipelineJobs/kfp-6-fraud-20220320120137-20220320120202 current state:\n",
      "PipelineState.PIPELINE_STATE_RUNNING\n",
      "INFO:google.cloud.aiplatform.pipeline_jobs:PipelineJob projects/948421954571/locations/us-central1/pipelineJobs/kfp-6-fraud-20220320120137-20220320120202 current state:\n",
      "PipelineState.PIPELINE_STATE_RUNNING\n",
      "INFO:google.cloud.aiplatform.pipeline_jobs:PipelineJob projects/948421954571/locations/us-central1/pipelineJobs/kfp-6-fraud-20220320120137-20220320120202 current state:\n",
      "PipelineState.PIPELINE_STATE_RUNNING\n",
      "INFO:google.cloud.aiplatform.pipeline_jobs:PipelineJob projects/948421954571/locations/us-central1/pipelineJobs/kfp-6-fraud-20220320120137-20220320120202 current state:\n",
      "PipelineState.PIPELINE_STATE_RUNNING\n",
      "INFO:google.cloud.aiplatform.pipeline_jobs:PipelineJob projects/948421954571/locations/us-central1/pipelineJobs/kfp-6-fraud-20220320120137-20220320120202 current state:\n",
      "PipelineState.PIPELINE_STATE_RUNNING\n",
      "INFO:google.cloud.aiplatform.pipeline_jobs:PipelineJob projects/948421954571/locations/us-central1/pipelineJobs/kfp-6-fraud-20220320120137-20220320120202 current state:\n",
      "PipelineState.PIPELINE_STATE_RUNNING\n",
      "INFO:google.cloud.aiplatform.pipeline_jobs:PipelineJob projects/948421954571/locations/us-central1/pipelineJobs/kfp-6-fraud-20220320120137-20220320120202 current state:\n",
      "PipelineState.PIPELINE_STATE_RUNNING\n",
      "INFO:google.cloud.aiplatform.pipeline_jobs:PipelineJob projects/948421954571/locations/us-central1/pipelineJobs/kfp-6-fraud-20220320120137-20220320120202 current state:\n",
      "PipelineState.PIPELINE_STATE_RUNNING\n",
      "INFO:google.cloud.aiplatform.pipeline_jobs:PipelineJob projects/948421954571/locations/us-central1/pipelineJobs/kfp-6-fraud-20220320120137-20220320120202 current state:\n",
      "PipelineState.PIPELINE_STATE_RUNNING\n",
      "INFO:google.cloud.aiplatform.pipeline_jobs:PipelineJob projects/948421954571/locations/us-central1/pipelineJobs/kfp-6-fraud-20220320120137-20220320120202 current state:\n",
      "PipelineState.PIPELINE_STATE_RUNNING\n",
      "INFO:google.cloud.aiplatform.pipeline_jobs:PipelineJob projects/948421954571/locations/us-central1/pipelineJobs/kfp-6-fraud-20220320120137-20220320120202 current state:\n",
      "PipelineState.PIPELINE_STATE_RUNNING\n",
      "INFO:google.cloud.aiplatform.pipeline_jobs:PipelineJob projects/948421954571/locations/us-central1/pipelineJobs/kfp-6-fraud-20220320120137-20220320120202 current state:\n",
      "PipelineState.PIPELINE_STATE_RUNNING\n",
      "INFO:google.cloud.aiplatform.pipeline_jobs:PipelineJob projects/948421954571/locations/us-central1/pipelineJobs/kfp-6-fraud-20220320120137-20220320120202 current state:\n",
      "PipelineState.PIPELINE_STATE_RUNNING\n",
      "INFO:google.cloud.aiplatform.pipeline_jobs:PipelineJob projects/948421954571/locations/us-central1/pipelineJobs/kfp-6-fraud-20220320120137-20220320120202 current state:\n",
      "PipelineState.PIPELINE_STATE_RUNNING\n",
      "INFO:google.cloud.aiplatform.pipeline_jobs:PipelineJob projects/948421954571/locations/us-central1/pipelineJobs/kfp-6-fraud-20220320120137-20220320120202 current state:\n",
      "PipelineState.PIPELINE_STATE_RUNNING\n",
      "INFO:google.cloud.aiplatform.pipeline_jobs:PipelineJob projects/948421954571/locations/us-central1/pipelineJobs/kfp-6-fraud-20220320120137-20220320120202 current state:\n",
      "PipelineState.PIPELINE_STATE_RUNNING\n",
      "INFO:google.cloud.aiplatform.pipeline_jobs:PipelineJob projects/948421954571/locations/us-central1/pipelineJobs/kfp-6-fraud-20220320120137-20220320120202 current state:\n",
      "PipelineState.PIPELINE_STATE_RUNNING\n",
      "INFO:google.cloud.aiplatform.pipeline_jobs:PipelineJob projects/948421954571/locations/us-central1/pipelineJobs/kfp-6-fraud-20220320120137-20220320120202 current state:\n",
      "PipelineState.PIPELINE_STATE_RUNNING\n",
      "INFO:google.cloud.aiplatform.pipeline_jobs:PipelineJob projects/948421954571/locations/us-central1/pipelineJobs/kfp-6-fraud-20220320120137-20220320120202 current state:\n",
      "PipelineState.PIPELINE_STATE_RUNNING\n",
      "INFO:google.cloud.aiplatform.pipeline_jobs:PipelineJob projects/948421954571/locations/us-central1/pipelineJobs/kfp-6-fraud-20220320120137-20220320120202 current state:\n",
      "PipelineState.PIPELINE_STATE_RUNNING\n",
      "INFO:google.cloud.aiplatform.pipeline_jobs:PipelineJob projects/948421954571/locations/us-central1/pipelineJobs/kfp-6-fraud-20220320120137-20220320120202 current state:\n",
      "PipelineState.PIPELINE_STATE_RUNNING\n",
      "INFO:google.cloud.aiplatform.pipeline_jobs:PipelineJob projects/948421954571/locations/us-central1/pipelineJobs/kfp-6-fraud-20220320120137-20220320120202 current state:\n",
      "PipelineState.PIPELINE_STATE_RUNNING\n",
      "INFO:google.cloud.aiplatform.pipeline_jobs:PipelineJob projects/948421954571/locations/us-central1/pipelineJobs/kfp-6-fraud-20220320120137-20220320120202 current state:\n",
      "PipelineState.PIPELINE_STATE_RUNNING\n",
      "INFO:google.cloud.aiplatform.pipeline_jobs:PipelineJob projects/948421954571/locations/us-central1/pipelineJobs/kfp-6-fraud-20220320120137-20220320120202 current state:\n",
      "PipelineState.PIPELINE_STATE_RUNNING\n",
      "INFO:google.cloud.aiplatform.pipeline_jobs:PipelineJob projects/948421954571/locations/us-central1/pipelineJobs/kfp-6-fraud-20220320120137-20220320120202 current state:\n",
      "PipelineState.PIPELINE_STATE_RUNNING\n",
      "INFO:google.cloud.aiplatform.pipeline_jobs:PipelineJob projects/948421954571/locations/us-central1/pipelineJobs/kfp-6-fraud-20220320120137-20220320120202 current state:\n",
      "PipelineState.PIPELINE_STATE_RUNNING\n",
      "INFO:google.cloud.aiplatform.pipeline_jobs:PipelineJob projects/948421954571/locations/us-central1/pipelineJobs/kfp-6-fraud-20220320120137-20220320120202 current state:\n",
      "PipelineState.PIPELINE_STATE_RUNNING\n",
      "INFO:google.cloud.aiplatform.pipeline_jobs:PipelineJob projects/948421954571/locations/us-central1/pipelineJobs/kfp-6-fraud-20220320120137-20220320120202 current state:\n",
      "PipelineState.PIPELINE_STATE_RUNNING\n",
      "INFO:google.cloud.aiplatform.pipeline_jobs:PipelineJob projects/948421954571/locations/us-central1/pipelineJobs/kfp-6-fraud-20220320120137-20220320120202 current state:\n",
      "PipelineState.PIPELINE_STATE_RUNNING\n",
      "INFO:google.cloud.aiplatform.pipeline_jobs:PipelineJob projects/948421954571/locations/us-central1/pipelineJobs/kfp-6-fraud-20220320120137-20220320120202 current state:\n",
      "PipelineState.PIPELINE_STATE_RUNNING\n",
      "INFO:google.cloud.aiplatform.pipeline_jobs:PipelineJob projects/948421954571/locations/us-central1/pipelineJobs/kfp-6-fraud-20220320120137-20220320120202 current state:\n",
      "PipelineState.PIPELINE_STATE_RUNNING\n",
      "INFO:google.cloud.aiplatform.pipeline_jobs:PipelineJob projects/948421954571/locations/us-central1/pipelineJobs/kfp-6-fraud-20220320120137-20220320120202 current state:\n",
      "PipelineState.PIPELINE_STATE_RUNNING\n",
      "INFO:google.cloud.aiplatform.pipeline_jobs:PipelineJob projects/948421954571/locations/us-central1/pipelineJobs/kfp-6-fraud-20220320120137-20220320120202 current state:\n",
      "PipelineState.PIPELINE_STATE_RUNNING\n",
      "INFO:google.cloud.aiplatform.pipeline_jobs:PipelineJob projects/948421954571/locations/us-central1/pipelineJobs/kfp-6-fraud-20220320120137-20220320120202 current state:\n",
      "PipelineState.PIPELINE_STATE_RUNNING\n",
      "INFO:google.cloud.aiplatform.pipeline_jobs:PipelineJob projects/948421954571/locations/us-central1/pipelineJobs/kfp-6-fraud-20220320120137-20220320120202 current state:\n",
      "PipelineState.PIPELINE_STATE_RUNNING\n",
      "INFO:google.cloud.aiplatform.pipeline_jobs:PipelineJob projects/948421954571/locations/us-central1/pipelineJobs/kfp-6-fraud-20220320120137-20220320120202 current state:\n",
      "PipelineState.PIPELINE_STATE_RUNNING\n",
      "INFO:google.cloud.aiplatform.pipeline_jobs:PipelineJob projects/948421954571/locations/us-central1/pipelineJobs/kfp-6-fraud-20220320120137-20220320120202 current state:\n",
      "PipelineState.PIPELINE_STATE_RUNNING\n",
      "INFO:google.cloud.aiplatform.pipeline_jobs:PipelineJob projects/948421954571/locations/us-central1/pipelineJobs/kfp-6-fraud-20220320120137-20220320120202 current state:\n",
      "PipelineState.PIPELINE_STATE_RUNNING\n",
      "INFO:google.cloud.aiplatform.pipeline_jobs:PipelineJob projects/948421954571/locations/us-central1/pipelineJobs/kfp-6-fraud-20220320120137-20220320120202 current state:\n",
      "PipelineState.PIPELINE_STATE_RUNNING\n",
      "INFO:google.cloud.aiplatform.pipeline_jobs:PipelineJob projects/948421954571/locations/us-central1/pipelineJobs/kfp-6-fraud-20220320120137-20220320120202 current state:\n",
      "PipelineState.PIPELINE_STATE_RUNNING\n",
      "INFO:google.cloud.aiplatform.pipeline_jobs:PipelineJob projects/948421954571/locations/us-central1/pipelineJobs/kfp-6-fraud-20220320120137-20220320120202 current state:\n",
      "PipelineState.PIPELINE_STATE_RUNNING\n"
     ]
    }
   ],
   "source": [
    "response = pipeline.run(service_account = SERVICE_ACCOUNT)"
   ]
  },
  {
   "cell_type": "code",
   "execution_count": null,
   "id": "002c0d7f-8bdd-4380-828b-cae9dc4c0b26",
   "metadata": {},
   "outputs": [],
   "source": [
    "aiplatform.get_pipeline_df(pipeline = f'kfp-{NOTEBOOK}-{DATANAME}-{TIMESTAMP}')"
   ]
  },
  {
   "cell_type": "markdown",
   "id": "c33e69dc-2724-400a-8bb1-b4c349441dde",
   "metadata": {},
   "source": [
    "## Review Pipeline Run\n",
    "\n",
    "<img src=\"architectures/notebooks/03c_screenshots/kfp_pipeline.png\">"
   ]
  },
  {
   "cell_type": "markdown",
   "id": "ea11a7b6-4f0d-41b7-8225-5ffbb2327368",
   "metadata": {},
   "source": [
    "---\n",
    "## Prediction"
   ]
  },
  {
   "cell_type": "markdown",
   "id": "fa6e0959-98a1-459f-8a5d-4f601e217b6f",
   "metadata": {},
   "source": [
    "### Prepare a record for prediction: instance and parameters lists"
   ]
  },
  {
   "cell_type": "code",
   "execution_count": null,
   "id": "5bda8542",
   "metadata": {},
   "outputs": [],
   "source": [
    "pred = bigquery.query(query = f\"SELECT * FROM {DATANAME}.{DATANAME}_prepped WHERE splits='TEST' LIMIT 10\").to_dataframe()"
   ]
  },
  {
   "cell_type": "code",
   "execution_count": null,
   "id": "bb5a77b7",
   "metadata": {},
   "outputs": [],
   "source": [
    "pred.head(4)"
   ]
  },
  {
   "cell_type": "code",
   "execution_count": null,
   "id": "4c32ed6b",
   "metadata": {},
   "outputs": [],
   "source": [
    "newob = pred[pred.columns[~pred.columns.isin(VAR_OMIT.split()+[VAR_TARGET, 'splits'])]].to_dict(orient='records')[0]\n",
    "newob"
   ]
  },
  {
   "cell_type": "markdown",
   "id": "01139225-025d-444f-9bf8-2af525730732",
   "metadata": {},
   "source": [
    "### Get Predictions: Python Client\n",
    "This model does not have the default signature name expected by Vertex AI endpoint of \"serving_default\".  To get arround this we prepare the json input to include the correct signature name and use the [raw_predict method with the PredictionService documented here](https://googleapis.dev/python/aiplatform/latest/aiplatform_v1/prediction_service.html#google.cloud.aiplatform_v1.services.prediction_service.PredictionServiceClient.raw_predict)."
   ]
  },
  {
   "cell_type": "code",
   "execution_count": null,
   "id": "279cf479",
   "metadata": {},
   "outputs": [],
   "source": [
    "for e in aiplatform.Endpoint.list():\n",
    "    if e.display_name.startswith('03b'): endpoint = e\n",
    "print(endpoint.display_name)\n",
    "print(endpoint.resource_name)"
   ]
  },
  {
   "cell_type": "code",
   "execution_count": null,
   "id": "b40faf0d-7a8d-4eb6-a04c-00bbde40dae3",
   "metadata": {},
   "outputs": [],
   "source": [
    "client_options = {\"api_endpoint\": f\"{REGION}-aiplatform.googleapis.com\"}\n",
    "predictor = aiplatform.gapic.PredictionServiceClient(client_options = client_options)"
   ]
  },
  {
   "cell_type": "code",
   "execution_count": null,
   "id": "b156f3b9-9a89-43de-a10d-1008ee0f2a15",
   "metadata": {},
   "outputs": [],
   "source": [
    "from google.api import httpbody_pb2\n",
    "instances = {\"instances\": [newob], \"signature_name\": \"predict\"}\n",
    "http_body = httpbody_pb2.HttpBody(data = json.dumps(instances).encode(\"utf-8\"), content_type = \"application/json\")"
   ]
  },
  {
   "cell_type": "code",
   "execution_count": null,
   "id": "c9b1e293-e75a-4449-b5a4-220a346ea882",
   "metadata": {},
   "outputs": [],
   "source": [
    "pred = predictor.raw_predict(endpoint = endpoint.resource_name, http_body = http_body)"
   ]
  },
  {
   "cell_type": "code",
   "execution_count": null,
   "id": "2152e7c7-57a3-46df-b762-2a43d3178de6",
   "metadata": {},
   "outputs": [],
   "source": [
    "json.loads(pred.data)"
   ]
  },
  {
   "cell_type": "markdown",
   "id": "ef471864-8a88-43b7-b9af-3215ac460ef9",
   "metadata": {},
   "source": [
    "### Get Predictions: REST\n",
    "This model does not have the default signature name expected by Vertex AI endpoint of \"serving_default\".  To get arround this we prepare the json input to include the correct signature name and use the [raw predict method documented here](https://cloud.google.com/vertex-ai/docs/reference/rest/v1/projects.locations.endpoints/rawPredict)."
   ]
  },
  {
   "cell_type": "code",
   "execution_count": null,
   "id": "f6b3a5b9",
   "metadata": {},
   "outputs": [],
   "source": [
    "with open(f'{DIR}/request.json','w') as file:\n",
    "    file.write(json.dumps({\"signature_name\": \"predict\", \"instances\": [newob]}))"
   ]
  },
  {
   "cell_type": "code",
   "execution_count": null,
   "id": "6e7b1b91",
   "metadata": {},
   "outputs": [],
   "source": [
    "!curl -X POST \\\n",
    "-H \"Authorization: Bearer \"$(gcloud auth application-default print-access-token) \\\n",
    "-H \"Content-Type: application/json; charset=utf-8\" \\\n",
    "-d @{DIR}/request.json \\\n",
    "https://{REGION}-aiplatform.googleapis.com/v1/{endpoint.resource_name}:rawPredict"
   ]
  },
  {
   "cell_type": "markdown",
   "id": "3752beb8-b4e7-45c8-8d2b-b36caace61e3",
   "metadata": {},
   "source": [
    "### Get Predictions: gcloud (CLI)\n",
    "This model does not have the default signature name expected by Vertex AI endpoint of \"serving_default\".  To get arround this we prepare the json input to include the correct signature name and use the [raw predict method documented here](https://cloud.google.com/sdk/gcloud/reference/ai/endpoints/raw-predict)."
   ]
  },
  {
   "cell_type": "code",
   "execution_count": null,
   "id": "3af5488f-5884-4e7d-a3e5-e6671d469d8a",
   "metadata": {},
   "outputs": [],
   "source": [
    "with open(f'{DIR}/request.json','w') as file:\n",
    "    file.write(json.dumps({\"signature_name\": \"predict\", \"instances\": [newob]}))"
   ]
  },
  {
   "cell_type": "code",
   "execution_count": null,
   "id": "d3523017",
   "metadata": {},
   "outputs": [],
   "source": [
    "!gcloud ai endpoints raw-predict {endpoint.name.rsplit('/',1)[-1]} --region={REGION} --request=@{DIR}/request.json"
   ]
  },
  {
   "cell_type": "code",
   "execution_count": null,
   "id": "67dcb5ce-ad81-42f3-80fe-71678df9c439",
   "metadata": {},
   "outputs": [],
   "source": []
  }
 ],
 "metadata": {
  "environment": {
   "kernel": "python3",
   "name": "tf2-gpu.2-3.m90",
   "type": "gcloud",
   "uri": "gcr.io/deeplearning-platform-release/tf2-gpu.2-3:m90"
  },
  "kernelspec": {
   "display_name": "Python 3",
   "language": "python",
   "name": "python3"
  },
  "language_info": {
   "codemirror_mode": {
    "name": "ipython",
    "version": 3
   },
   "file_extension": ".py",
   "mimetype": "text/x-python",
   "name": "python",
   "nbconvert_exporter": "python",
   "pygments_lexer": "ipython3",
   "version": "3.7.12"
  },
  "toc-autonumbering": false
 },
 "nbformat": 4,
 "nbformat_minor": 5
}
