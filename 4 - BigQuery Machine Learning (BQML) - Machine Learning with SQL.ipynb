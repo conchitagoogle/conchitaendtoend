{
 "cells": [
  {
   "cell_type": "markdown",
   "id": "b3ccbadc",
   "metadata": {},
   "source": [
    "# 03a - BigQuery Machine Learning (BQML) - Machine Learning with SQL\n",
    "\n",
    "BigQuery has a number of machine learning algorithms callable directly from SQL.  This gives the convenience of using the common language of SQL to \"CREATE MODEL …).  The library of available models is constantly growing and covers supervised, unsupervised, and time series methods as well as functions for evaluation - even anomaly detection from results, explainability and hyperparameter tuning.  A great starting point for seeing the scope of available methods is the [user journey for models](https://cloud.google.com/bigquery-ml/docs/reference/standard-sql/bigqueryml-syntax-e2e-journey).\n",
    "\n",
    "In this demonstration, BigQuery ML (BQML) is used to create a logistic regression model.\n",
    "\n",
    "\n",
    "\n",
    "### Prerequisites:\n",
    "-  01 - BigQuery - Table Data Source\n",
    "\n",
    "### Overview:\n",
    "-  Train logistic regression model with BQML\n",
    "   -  CREATE MODEL …. model_type=\"LOGISTIC_REG\"\n",
    "-  Review training information\n",
    "   -  SELECT * FROM ML.TRAINING_INFO…\n",
    "-  Evaluated the models performance\n",
    "   -  SELECT * FROM ML.EVALUATE…\n",
    "-  Review the classification errors with a confusion matrix\n",
    "   -  SELECT * FROM ML.CONFUSION_MATRIX…\n",
    "-  Create prediction for data in BigQuery\n",
    "   -  SELECT * FROM ML.PREDICT\n",
    "\n",
    "### Resources:\n",
    "-  [BigQuery ML (BQML) Overview](https://cloud.google.com/bigquery-ml/docs/introduction)\n",
    "-  [Overview of BQML methods and workflows](https://cloud.google.com/bigquery-ml/docs/reference/standard-sql/bigqueryml-syntax-e2e-journey)\n",
    "-  [BigQuery magics for jupyter notebooks](https://github.com/GoogleCloudPlatform/bigquery-notebooks/blob/main/notebooks/official/template_notebooks/bigquery_magic.ipynb)\n"
   ]
  },
  {
   "cell_type": "markdown",
   "id": "9efb7249",
   "metadata": {},
   "source": [
    "---\n",
    "## Setup"
   ]
  },
  {
   "cell_type": "markdown",
   "id": "5120acf8",
   "metadata": {},
   "source": [
    "inputs:"
   ]
  },
  {
   "cell_type": "code",
   "execution_count": 36,
   "id": "d7e73d29",
   "metadata": {},
   "outputs": [],
   "source": [
    "REGION = 'us-central1'\n",
    "PROJECT_ID='statmike-mlops'\n",
    "DATANAME = 'fraud'\n",
    "NOTEBOOK = '03a'\n",
    "\n",
    "# Model Training\n",
    "VAR_TARGET = 'Class'\n",
    "VAR_OMIT = 'transaction_id' # add more variables to the string with space delimiters"
   ]
  },
  {
   "cell_type": "markdown",
   "id": "4aa71004",
   "metadata": {},
   "source": [
    "packages:"
   ]
  },
  {
   "cell_type": "code",
   "execution_count": 2,
   "id": "4aa7cd23",
   "metadata": {},
   "outputs": [],
   "source": [
    "from google.cloud import bigquery"
   ]
  },
  {
   "cell_type": "markdown",
   "id": "dbe01073",
   "metadata": {},
   "source": [
    "clients:"
   ]
  },
  {
   "cell_type": "code",
   "execution_count": 3,
   "id": "3baa671e",
   "metadata": {},
   "outputs": [],
   "source": [
    "bigquery = bigquery.Client()"
   ]
  },
  {
   "cell_type": "markdown",
   "id": "5686a4bb",
   "metadata": {},
   "source": [
    "---\n",
    "## Train Model\n",
    "\n",
    "Use BigQuery ML to train multiclass logistic regression model:\n",
    "- https://cloud.google.com/bigquery-ml/docs/reference/standard-sql/bigqueryml-syntax-create-glm\n",
    "- This uses the `splits` column that notebook `01` created\n",
    "- `data_split_method = CUSTOM` uses the column in `data_split_col` to assign training data for `FALSE` values and evaluation data for `TRUE` values."
   ]
  },
  {
   "cell_type": "code",
   "execution_count": 4,
   "id": "8ec35834",
   "metadata": {},
   "outputs": [
    {
     "data": {
      "text/plain": [
       "<google.cloud.bigquery.table._EmptyRowIterator at 0x7f471a19dd10>"
      ]
     },
     "execution_count": 4,
     "metadata": {},
     "output_type": "execute_result"
    }
   ],
   "source": [
    "query = f\"\"\"\n",
    "CREATE OR REPLACE MODEL `{DATANAME}.{DATANAME}_lr`\n",
    "OPTIONS\n",
    "    (model_type = 'LOGISTIC_REG',\n",
    "        auto_class_weights = TRUE,\n",
    "        input_label_cols = ['{VAR_TARGET}'],\n",
    "        data_split_col = 'custom_splits',\n",
    "        data_split_method = 'CUSTOM'\n",
    "    ) AS\n",
    "SELECT * EXCEPT({','.join(VAR_OMIT.split())}, splits),\n",
    "    CASE\n",
    "        WHEN splits = 'TRAIN' THEN FALSE\n",
    "        ELSE TRUE\n",
    "    END AS custom_splits\n",
    "FROM `{DATANAME}.{DATANAME}_prepped`\n",
    "WHERE splits != 'TEST'\n",
    "\"\"\"\n",
    "job = bigquery.query(query = query)\n",
    "job.result()"
   ]
  },
  {
   "cell_type": "code",
   "execution_count": 5,
   "id": "e3a6b5f1",
   "metadata": {},
   "outputs": [
    {
     "data": {
      "text/plain": [
       "165.041"
      ]
     },
     "execution_count": 5,
     "metadata": {},
     "output_type": "execute_result"
    }
   ],
   "source": [
    "(job.ended-job.started).total_seconds()"
   ]
  },
  {
   "cell_type": "markdown",
   "id": "c30f3d34",
   "metadata": {},
   "source": [
    "Review the iterations from training:"
   ]
  },
  {
   "cell_type": "code",
   "execution_count": 4,
   "id": "14d2757d",
   "metadata": {},
   "outputs": [
    {
     "data": {
      "text/html": [
       "<div>\n",
       "<style scoped>\n",
       "    .dataframe tbody tr th:only-of-type {\n",
       "        vertical-align: middle;\n",
       "    }\n",
       "\n",
       "    .dataframe tbody tr th {\n",
       "        vertical-align: top;\n",
       "    }\n",
       "\n",
       "    .dataframe thead th {\n",
       "        text-align: right;\n",
       "    }\n",
       "</style>\n",
       "<table border=\"1\" class=\"dataframe\">\n",
       "  <thead>\n",
       "    <tr style=\"text-align: right;\">\n",
       "      <th></th>\n",
       "      <th>training_run</th>\n",
       "      <th>iteration</th>\n",
       "      <th>loss</th>\n",
       "      <th>eval_loss</th>\n",
       "      <th>learning_rate</th>\n",
       "      <th>duration_ms</th>\n",
       "    </tr>\n",
       "  </thead>\n",
       "  <tbody>\n",
       "    <tr>\n",
       "      <th>0</th>\n",
       "      <td>0</td>\n",
       "      <td>0</td>\n",
       "      <td>0.684171</td>\n",
       "      <td>0.681628</td>\n",
       "      <td>0.2</td>\n",
       "      <td>9712</td>\n",
       "    </tr>\n",
       "    <tr>\n",
       "      <th>1</th>\n",
       "      <td>0</td>\n",
       "      <td>1</td>\n",
       "      <td>0.645892</td>\n",
       "      <td>0.643360</td>\n",
       "      <td>0.4</td>\n",
       "      <td>11503</td>\n",
       "    </tr>\n",
       "    <tr>\n",
       "      <th>2</th>\n",
       "      <td>0</td>\n",
       "      <td>2</td>\n",
       "      <td>0.577733</td>\n",
       "      <td>0.575218</td>\n",
       "      <td>0.8</td>\n",
       "      <td>11740</td>\n",
       "    </tr>\n",
       "    <tr>\n",
       "      <th>3</th>\n",
       "      <td>0</td>\n",
       "      <td>3</td>\n",
       "      <td>0.469597</td>\n",
       "      <td>0.467111</td>\n",
       "      <td>1.6</td>\n",
       "      <td>11629</td>\n",
       "    </tr>\n",
       "    <tr>\n",
       "      <th>4</th>\n",
       "      <td>0</td>\n",
       "      <td>4</td>\n",
       "      <td>0.332656</td>\n",
       "      <td>0.330206</td>\n",
       "      <td>3.2</td>\n",
       "      <td>11559</td>\n",
       "    </tr>\n",
       "    <tr>\n",
       "      <th>5</th>\n",
       "      <td>0</td>\n",
       "      <td>5</td>\n",
       "      <td>0.214659</td>\n",
       "      <td>0.212244</td>\n",
       "      <td>6.4</td>\n",
       "      <td>10998</td>\n",
       "    </tr>\n",
       "    <tr>\n",
       "      <th>6</th>\n",
       "      <td>0</td>\n",
       "      <td>6</td>\n",
       "      <td>0.156550</td>\n",
       "      <td>0.154205</td>\n",
       "      <td>12.8</td>\n",
       "      <td>11835</td>\n",
       "    </tr>\n",
       "    <tr>\n",
       "      <th>7</th>\n",
       "      <td>0</td>\n",
       "      <td>7</td>\n",
       "      <td>0.116895</td>\n",
       "      <td>0.114697</td>\n",
       "      <td>25.6</td>\n",
       "      <td>10853</td>\n",
       "    </tr>\n",
       "  </tbody>\n",
       "</table>\n",
       "</div>"
      ],
      "text/plain": [
       "   training_run  iteration      loss  eval_loss  learning_rate  duration_ms\n",
       "0             0          0  0.684171   0.681628            0.2         9712\n",
       "1             0          1  0.645892   0.643360            0.4        11503\n",
       "2             0          2  0.577733   0.575218            0.8        11740\n",
       "3             0          3  0.469597   0.467111            1.6        11629\n",
       "4             0          4  0.332656   0.330206            3.2        11559\n",
       "5             0          5  0.214659   0.212244            6.4        10998\n",
       "6             0          6  0.156550   0.154205           12.8        11835\n",
       "7             0          7  0.116895   0.114697           25.6        10853"
      ]
     },
     "execution_count": 4,
     "metadata": {},
     "output_type": "execute_result"
    }
   ],
   "source": [
    "bigquery.query(query=f\"SELECT * FROM ML.TRAINING_INFO(MODEL `{DATANAME}.{DATANAME}_lr`) ORDER BY iteration\").to_dataframe()"
   ]
  },
  {
   "cell_type": "markdown",
   "id": "e993eee1-1a45-4fee-9c32-5b9412b4c88f",
   "metadata": {},
   "source": [
    "### Check out this model in BigQuery Console:\n",
    "- Click: https://console.cloud.google.com/bigquery\n",
    "- Make sure project selected is the one from this notebook\n",
    "- Under Explore, expand this project and dataset\n",
    "- Expand Models and select the model create here"
   ]
  },
  {
   "cell_type": "markdown",
   "id": "3801418e",
   "metadata": {},
   "source": [
    "---\n",
    "## Evaluate Model"
   ]
  },
  {
   "cell_type": "markdown",
   "id": "e7820b93",
   "metadata": {},
   "source": [
    "Review the model evaluation statistics on the Test/Train splits:"
   ]
  },
  {
   "cell_type": "code",
   "execution_count": 5,
   "id": "cc215352",
   "metadata": {},
   "outputs": [
    {
     "data": {
      "text/html": [
       "<div>\n",
       "<style scoped>\n",
       "    .dataframe tbody tr th:only-of-type {\n",
       "        vertical-align: middle;\n",
       "    }\n",
       "\n",
       "    .dataframe tbody tr th {\n",
       "        vertical-align: top;\n",
       "    }\n",
       "\n",
       "    .dataframe thead th {\n",
       "        text-align: right;\n",
       "    }\n",
       "</style>\n",
       "<table border=\"1\" class=\"dataframe\">\n",
       "  <thead>\n",
       "    <tr style=\"text-align: right;\">\n",
       "      <th></th>\n",
       "      <th>SPLIT</th>\n",
       "      <th>precision</th>\n",
       "      <th>recall</th>\n",
       "      <th>accuracy</th>\n",
       "      <th>f1_score</th>\n",
       "      <th>log_loss</th>\n",
       "      <th>roc_auc</th>\n",
       "    </tr>\n",
       "  </thead>\n",
       "  <tbody>\n",
       "    <tr>\n",
       "      <th>0</th>\n",
       "      <td>TEST</td>\n",
       "      <td>0.105485</td>\n",
       "      <td>0.847458</td>\n",
       "      <td>0.984705</td>\n",
       "      <td>0.187617</td>\n",
       "      <td>0.113488</td>\n",
       "      <td>0.965440</td>\n",
       "    </tr>\n",
       "    <tr>\n",
       "      <th>1</th>\n",
       "      <td>TRAIN</td>\n",
       "      <td>0.086462</td>\n",
       "      <td>0.903797</td>\n",
       "      <td>0.983309</td>\n",
       "      <td>0.157825</td>\n",
       "      <td>0.116895</td>\n",
       "      <td>0.986058</td>\n",
       "    </tr>\n",
       "  </tbody>\n",
       "</table>\n",
       "</div>"
      ],
      "text/plain": [
       "   SPLIT  precision    recall  accuracy  f1_score  log_loss   roc_auc\n",
       "0   TEST   0.105485  0.847458  0.984705  0.187617  0.113488  0.965440\n",
       "1  TRAIN   0.086462  0.903797  0.983309  0.157825  0.116895  0.986058"
      ]
     },
     "execution_count": 5,
     "metadata": {},
     "output_type": "execute_result"
    }
   ],
   "source": [
    "query = f\"\"\"\n",
    "SELECT 'TRAIN' as SPLIT, * FROM ML.EVALUATE (MODEL `{DATANAME}.{DATANAME}_lr`,\n",
    "    (SELECT * FROM `{DATANAME}.{DATANAME}_prepped` WHERE SPLITS='TRAIN'))\n",
    "UNION ALL\n",
    "SELECT 'TEST' as SPLIT, * FROM ML.EVALUATE (MODEL `{DATANAME}.{DATANAME}_lr`,\n",
    "    (SELECT * FROM `{DATANAME}.{DATANAME}_prepped` WHERE SPLITS='TEST'))\n",
    "\"\"\"\n",
    "bigquery.query(query = query).to_dataframe()"
   ]
  },
  {
   "cell_type": "markdown",
   "id": "51559961",
   "metadata": {},
   "source": [
    "Review the confusion matrix for each split:"
   ]
  },
  {
   "cell_type": "code",
   "execution_count": 6,
   "id": "0feb32e9",
   "metadata": {},
   "outputs": [
    {
     "data": {
      "text/html": [
       "<div>\n",
       "<style scoped>\n",
       "    .dataframe tbody tr th:only-of-type {\n",
       "        vertical-align: middle;\n",
       "    }\n",
       "\n",
       "    .dataframe tbody tr th {\n",
       "        vertical-align: top;\n",
       "    }\n",
       "\n",
       "    .dataframe thead th {\n",
       "        text-align: right;\n",
       "    }\n",
       "</style>\n",
       "<table border=\"1\" class=\"dataframe\">\n",
       "  <thead>\n",
       "    <tr style=\"text-align: right;\">\n",
       "      <th></th>\n",
       "      <th>expected_label</th>\n",
       "      <th>_0</th>\n",
       "      <th>_1</th>\n",
       "    </tr>\n",
       "  </thead>\n",
       "  <tbody>\n",
       "    <tr>\n",
       "      <th>0</th>\n",
       "      <td>0</td>\n",
       "      <td>224099</td>\n",
       "      <td>3772</td>\n",
       "    </tr>\n",
       "    <tr>\n",
       "      <th>1</th>\n",
       "      <td>1</td>\n",
       "      <td>38</td>\n",
       "      <td>357</td>\n",
       "    </tr>\n",
       "  </tbody>\n",
       "</table>\n",
       "</div>"
      ],
      "text/plain": [
       "   expected_label      _0    _1\n",
       "0               0  224099  3772\n",
       "1               1      38   357"
      ]
     },
     "execution_count": 6,
     "metadata": {},
     "output_type": "execute_result"
    }
   ],
   "source": [
    "query = f\"\"\"\n",
    "SELECT *\n",
    "FROM ML.CONFUSION_MATRIX (MODEL `{DATANAME}.{DATANAME}_lr`,(\n",
    "    SELECT *\n",
    "    FROM `{DATANAME}.{DATANAME}_prepped`\n",
    "    WHERE splits = 'TRAIN')\n",
    "  )\n",
    "\"\"\"\n",
    "bigquery.query(query = query).to_dataframe()"
   ]
  },
  {
   "cell_type": "code",
   "execution_count": 7,
   "id": "b26c799e",
   "metadata": {},
   "outputs": [
    {
     "data": {
      "text/html": [
       "<div>\n",
       "<style scoped>\n",
       "    .dataframe tbody tr th:only-of-type {\n",
       "        vertical-align: middle;\n",
       "    }\n",
       "\n",
       "    .dataframe tbody tr th {\n",
       "        vertical-align: top;\n",
       "    }\n",
       "\n",
       "    .dataframe thead th {\n",
       "        text-align: right;\n",
       "    }\n",
       "</style>\n",
       "<table border=\"1\" class=\"dataframe\">\n",
       "  <thead>\n",
       "    <tr style=\"text-align: right;\">\n",
       "      <th></th>\n",
       "      <th>expected_label</th>\n",
       "      <th>_0</th>\n",
       "      <th>_1</th>\n",
       "    </tr>\n",
       "  </thead>\n",
       "  <tbody>\n",
       "    <tr>\n",
       "      <th>0</th>\n",
       "      <td>0</td>\n",
       "      <td>27749</td>\n",
       "      <td>445</td>\n",
       "    </tr>\n",
       "    <tr>\n",
       "      <th>1</th>\n",
       "      <td>1</td>\n",
       "      <td>0</td>\n",
       "      <td>38</td>\n",
       "    </tr>\n",
       "  </tbody>\n",
       "</table>\n",
       "</div>"
      ],
      "text/plain": [
       "   expected_label     _0   _1\n",
       "0               0  27749  445\n",
       "1               1      0   38"
      ]
     },
     "execution_count": 7,
     "metadata": {},
     "output_type": "execute_result"
    }
   ],
   "source": [
    "query = f\"\"\"\n",
    "SELECT *\n",
    "FROM ML.CONFUSION_MATRIX (MODEL `{DATANAME}.{DATANAME}_lr`,(\n",
    "    SELECT *\n",
    "    FROM `{DATANAME}.{DATANAME}_prepped`\n",
    "    WHERE splits = 'VALIDATE')\n",
    "  )\n",
    "\"\"\"\n",
    "bigquery.query(query = query).to_dataframe()"
   ]
  },
  {
   "cell_type": "code",
   "execution_count": 8,
   "id": "c1251bc5",
   "metadata": {},
   "outputs": [
    {
     "data": {
      "text/html": [
       "<div>\n",
       "<style scoped>\n",
       "    .dataframe tbody tr th:only-of-type {\n",
       "        vertical-align: middle;\n",
       "    }\n",
       "\n",
       "    .dataframe tbody tr th {\n",
       "        vertical-align: top;\n",
       "    }\n",
       "\n",
       "    .dataframe thead th {\n",
       "        text-align: right;\n",
       "    }\n",
       "</style>\n",
       "<table border=\"1\" class=\"dataframe\">\n",
       "  <thead>\n",
       "    <tr style=\"text-align: right;\">\n",
       "      <th></th>\n",
       "      <th>expected_label</th>\n",
       "      <th>_0</th>\n",
       "      <th>_1</th>\n",
       "    </tr>\n",
       "  </thead>\n",
       "  <tbody>\n",
       "    <tr>\n",
       "      <th>0</th>\n",
       "      <td>0</td>\n",
       "      <td>27826</td>\n",
       "      <td>424</td>\n",
       "    </tr>\n",
       "    <tr>\n",
       "      <th>1</th>\n",
       "      <td>1</td>\n",
       "      <td>9</td>\n",
       "      <td>50</td>\n",
       "    </tr>\n",
       "  </tbody>\n",
       "</table>\n",
       "</div>"
      ],
      "text/plain": [
       "   expected_label     _0   _1\n",
       "0               0  27826  424\n",
       "1               1      9   50"
      ]
     },
     "execution_count": 8,
     "metadata": {},
     "output_type": "execute_result"
    }
   ],
   "source": [
    "query = f\"\"\"\n",
    "SELECT *\n",
    "FROM ML.CONFUSION_MATRIX (MODEL `{DATANAME}.{DATANAME}_lr`,(\n",
    "    SELECT *\n",
    "    FROM `{DATANAME}.{DATANAME}_prepped`\n",
    "    WHERE splits = 'TEST')\n",
    "  )\n",
    "\"\"\"\n",
    "bigquery.query(query = query).to_dataframe()"
   ]
  },
  {
   "cell_type": "markdown",
   "id": "567d51f8",
   "metadata": {},
   "source": [
    "---\n",
    "## Predictions"
   ]
  },
  {
   "cell_type": "markdown",
   "id": "0d0065d0",
   "metadata": {},
   "source": [
    "Create a pandas dataframe with predictions for the test data in the table:"
   ]
  },
  {
   "cell_type": "code",
   "execution_count": 9,
   "id": "11007445",
   "metadata": {},
   "outputs": [],
   "source": [
    "query = f\"\"\"\n",
    "SELECT *\n",
    "FROM ML.PREDICT (MODEL `{DATANAME}.{DATANAME}_lr`,(\n",
    "    SELECT *\n",
    "    FROM `{DATANAME}.{DATANAME}_prepped`\n",
    "    WHERE splits = 'TEST')\n",
    "  )\n",
    "\"\"\"\n",
    "pred = bigquery.query(query = query).to_dataframe()"
   ]
  },
  {
   "cell_type": "markdown",
   "id": "39907308",
   "metadata": {},
   "source": [
    "Review columns from the predictions - note that the query added columns with prefix `predicted_`"
   ]
  },
  {
   "cell_type": "code",
   "execution_count": 10,
   "id": "78c44b1f",
   "metadata": {},
   "outputs": [
    {
     "data": {
      "text/plain": [
       "Index(['predicted_Class', 'predicted_Class_probs', 'Time', 'V1', 'V2', 'V3',\n",
       "       'V4', 'V5', 'V6', 'V7', 'V8', 'V9', 'V10', 'V11', 'V12', 'V13', 'V14',\n",
       "       'V15', 'V16', 'V17', 'V18', 'V19', 'V20', 'V21', 'V22', 'V23', 'V24',\n",
       "       'V25', 'V26', 'V27', 'V28', 'Amount', 'Class', 'transaction_id',\n",
       "       'splits'],\n",
       "      dtype='object')"
      ]
     },
     "execution_count": 10,
     "metadata": {},
     "output_type": "execute_result"
    }
   ],
   "source": [
    "pred.columns"
   ]
  },
  {
   "cell_type": "markdown",
   "id": "4b072761",
   "metadata": {},
   "source": [
    "Print the first few rows for the columns related to the actual and predicted values:"
   ]
  },
  {
   "cell_type": "code",
   "execution_count": 11,
   "id": "c66df846",
   "metadata": {},
   "outputs": [
    {
     "data": {
      "text/html": [
       "<div>\n",
       "<style scoped>\n",
       "    .dataframe tbody tr th:only-of-type {\n",
       "        vertical-align: middle;\n",
       "    }\n",
       "\n",
       "    .dataframe tbody tr th {\n",
       "        vertical-align: top;\n",
       "    }\n",
       "\n",
       "    .dataframe thead th {\n",
       "        text-align: right;\n",
       "    }\n",
       "</style>\n",
       "<table border=\"1\" class=\"dataframe\">\n",
       "  <thead>\n",
       "    <tr style=\"text-align: right;\">\n",
       "      <th></th>\n",
       "      <th>Class</th>\n",
       "      <th>predicted_Class</th>\n",
       "      <th>predicted_Class_probs</th>\n",
       "      <th>splits</th>\n",
       "    </tr>\n",
       "  </thead>\n",
       "  <tbody>\n",
       "    <tr>\n",
       "      <th>0</th>\n",
       "      <td>0</td>\n",
       "      <td>0</td>\n",
       "      <td>[{'label': 1, 'prob': 0.09900601391652306}, {'...</td>\n",
       "      <td>TEST</td>\n",
       "    </tr>\n",
       "    <tr>\n",
       "      <th>1</th>\n",
       "      <td>0</td>\n",
       "      <td>0</td>\n",
       "      <td>[{'label': 1, 'prob': 0.18351417325863859}, {'...</td>\n",
       "      <td>TEST</td>\n",
       "    </tr>\n",
       "    <tr>\n",
       "      <th>2</th>\n",
       "      <td>0</td>\n",
       "      <td>0</td>\n",
       "      <td>[{'label': 1, 'prob': 0.026371296573281165}, {...</td>\n",
       "      <td>TEST</td>\n",
       "    </tr>\n",
       "    <tr>\n",
       "      <th>3</th>\n",
       "      <td>0</td>\n",
       "      <td>0</td>\n",
       "      <td>[{'label': 1, 'prob': 0.1254833459727559}, {'l...</td>\n",
       "      <td>TEST</td>\n",
       "    </tr>\n",
       "    <tr>\n",
       "      <th>4</th>\n",
       "      <td>0</td>\n",
       "      <td>0</td>\n",
       "      <td>[{'label': 1, 'prob': 0.10695330458460178}, {'...</td>\n",
       "      <td>TEST</td>\n",
       "    </tr>\n",
       "  </tbody>\n",
       "</table>\n",
       "</div>"
      ],
      "text/plain": [
       "   Class  predicted_Class                              predicted_Class_probs  \\\n",
       "0      0                0  [{'label': 1, 'prob': 0.09900601391652306}, {'...   \n",
       "1      0                0  [{'label': 1, 'prob': 0.18351417325863859}, {'...   \n",
       "2      0                0  [{'label': 1, 'prob': 0.026371296573281165}, {...   \n",
       "3      0                0  [{'label': 1, 'prob': 0.1254833459727559}, {'l...   \n",
       "4      0                0  [{'label': 1, 'prob': 0.10695330458460178}, {'...   \n",
       "\n",
       "  splits  \n",
       "0   TEST  \n",
       "1   TEST  \n",
       "2   TEST  \n",
       "3   TEST  \n",
       "4   TEST  "
      ]
     },
     "execution_count": 11,
     "metadata": {},
     "output_type": "execute_result"
    }
   ],
   "source": [
    "pred[[VAR_TARGET, f'predicted_{VAR_TARGET}', f'predicted_{VAR_TARGET}_probs', 'splits']].head()"
   ]
  },
  {
   "cell_type": "markdown",
   "id": "abcf9a35",
   "metadata": {},
   "source": [
    "Notice the nested dictionary for predicted probabilities.  In BigQuery this is a Record type structure with nested fields for `label` and `prop`.  This is returned to the pandas dataframe as a nested dictionary.\n",
    "\n",
    "The following code sorts the dictionary for the first record by `prob`:"
   ]
  },
  {
   "cell_type": "code",
   "execution_count": 13,
   "id": "b213c1f7",
   "metadata": {},
   "outputs": [
    {
     "data": {
      "text/plain": [
       "[[{'label': 0, 'prob': 0.9009939860834769},\n",
       "  {'label': 1, 'prob': 0.09900601391652306}]]"
      ]
     },
     "execution_count": 13,
     "metadata": {},
     "output_type": "execute_result"
    }
   ],
   "source": [
    "exec('temp = pred.predicted_'+VAR_TARGET+'_probs[0]')\n",
    "[sorted(x, key = lambda x: x['label']) for x in [temp]]"
   ]
  },
  {
   "cell_type": "markdown",
   "id": "e3d40959-4812-4094-a2f9-5452d7273c89",
   "metadata": {},
   "source": [
    "---\n",
    "## Explanations\n",
    "https://cloud.google.com/bigquery-ml/docs/reference/standard-sql/bigqueryml-syntax-explain-predict"
   ]
  },
  {
   "cell_type": "code",
   "execution_count": 19,
   "id": "219fd574-6971-4e8a-8805-fdd2d3514a69",
   "metadata": {},
   "outputs": [],
   "source": [
    "query = f\"\"\"\n",
    "SELECT *\n",
    "FROM ML.EXPLAIN_PREDICT (MODEL `{DATANAME}.{DATANAME}_lr`,(\n",
    "    SELECT *\n",
    "    FROM `{DATANAME}.{DATANAME}_prepped`\n",
    "    WHERE splits = 'TEST'), STRUCT(10 as top_k_features)\n",
    "  )\n",
    "\"\"\"\n",
    "explain = bigquery.query(query = query).to_dataframe()"
   ]
  },
  {
   "cell_type": "code",
   "execution_count": 20,
   "id": "6b9e6324-b1c5-477d-95c8-c3338738fec0",
   "metadata": {},
   "outputs": [
    {
     "data": {
      "text/html": [
       "<div>\n",
       "<style scoped>\n",
       "    .dataframe tbody tr th:only-of-type {\n",
       "        vertical-align: middle;\n",
       "    }\n",
       "\n",
       "    .dataframe tbody tr th {\n",
       "        vertical-align: top;\n",
       "    }\n",
       "\n",
       "    .dataframe thead th {\n",
       "        text-align: right;\n",
       "    }\n",
       "</style>\n",
       "<table border=\"1\" class=\"dataframe\">\n",
       "  <thead>\n",
       "    <tr style=\"text-align: right;\">\n",
       "      <th></th>\n",
       "      <th>predicted_Class</th>\n",
       "      <th>probability</th>\n",
       "      <th>top_feature_attributions</th>\n",
       "      <th>baseline_prediction_value</th>\n",
       "      <th>prediction_value</th>\n",
       "      <th>approximation_error</th>\n",
       "      <th>Time</th>\n",
       "      <th>V1</th>\n",
       "      <th>V2</th>\n",
       "      <th>V3</th>\n",
       "      <th>...</th>\n",
       "      <th>V23</th>\n",
       "      <th>V24</th>\n",
       "      <th>V25</th>\n",
       "      <th>V26</th>\n",
       "      <th>V27</th>\n",
       "      <th>V28</th>\n",
       "      <th>Amount</th>\n",
       "      <th>Class</th>\n",
       "      <th>transaction_id</th>\n",
       "      <th>splits</th>\n",
       "    </tr>\n",
       "  </thead>\n",
       "  <tbody>\n",
       "    <tr>\n",
       "      <th>0</th>\n",
       "      <td>0</td>\n",
       "      <td>0.900994</td>\n",
       "      <td>[{'feature': 'V4', 'attribution': 1.0706656100...</td>\n",
       "      <td>-2.729672</td>\n",
       "      <td>-2.208318</td>\n",
       "      <td>0.0</td>\n",
       "      <td>79470</td>\n",
       "      <td>1.073063</td>\n",
       "      <td>-0.026793</td>\n",
       "      <td>0.796502</td>\n",
       "      <td>...</td>\n",
       "      <td>0.048539</td>\n",
       "      <td>-0.258218</td>\n",
       "      <td>0.171861</td>\n",
       "      <td>1.028847</td>\n",
       "      <td>-0.037692</td>\n",
       "      <td>-0.013125</td>\n",
       "      <td>0.0</td>\n",
       "      <td>0</td>\n",
       "      <td>07fdced0-3837-47a1-9526-64d74ad9b113</td>\n",
       "      <td>TEST</td>\n",
       "    </tr>\n",
       "    <tr>\n",
       "      <th>1</th>\n",
       "      <td>0</td>\n",
       "      <td>0.816486</td>\n",
       "      <td>[{'feature': 'V4', 'attribution': 1.7751662324...</td>\n",
       "      <td>-2.729672</td>\n",
       "      <td>-1.492718</td>\n",
       "      <td>0.0</td>\n",
       "      <td>122082</td>\n",
       "      <td>1.878563</td>\n",
       "      <td>0.020785</td>\n",
       "      <td>-1.621113</td>\n",
       "      <td>...</td>\n",
       "      <td>0.121098</td>\n",
       "      <td>0.707538</td>\n",
       "      <td>0.140100</td>\n",
       "      <td>0.155684</td>\n",
       "      <td>0.016375</td>\n",
       "      <td>-0.053892</td>\n",
       "      <td>0.0</td>\n",
       "      <td>0</td>\n",
       "      <td>7c1f61ba-7586-414e-ba8a-1c4385d59933</td>\n",
       "      <td>TEST</td>\n",
       "    </tr>\n",
       "    <tr>\n",
       "      <th>2</th>\n",
       "      <td>0</td>\n",
       "      <td>0.973629</td>\n",
       "      <td>[{'feature': 'V12', 'attribution': 0.874458991...</td>\n",
       "      <td>-2.729672</td>\n",
       "      <td>-3.608754</td>\n",
       "      <td>0.0</td>\n",
       "      <td>11494</td>\n",
       "      <td>-1.169744</td>\n",
       "      <td>0.462878</td>\n",
       "      <td>1.587579</td>\n",
       "      <td>...</td>\n",
       "      <td>-0.042144</td>\n",
       "      <td>-0.021269</td>\n",
       "      <td>-0.283979</td>\n",
       "      <td>0.556661</td>\n",
       "      <td>-0.191722</td>\n",
       "      <td>-0.071773</td>\n",
       "      <td>0.0</td>\n",
       "      <td>0</td>\n",
       "      <td>a3046c87-cee5-40fd-9302-4d230b823246</td>\n",
       "      <td>TEST</td>\n",
       "    </tr>\n",
       "    <tr>\n",
       "      <th>3</th>\n",
       "      <td>0</td>\n",
       "      <td>0.874517</td>\n",
       "      <td>[{'feature': 'V4', 'attribution': 1.6008017257...</td>\n",
       "      <td>-2.729672</td>\n",
       "      <td>-1.941498</td>\n",
       "      <td>0.0</td>\n",
       "      <td>58900</td>\n",
       "      <td>-2.728403</td>\n",
       "      <td>-2.340346</td>\n",
       "      <td>2.551039</td>\n",
       "      <td>...</td>\n",
       "      <td>0.370139</td>\n",
       "      <td>-0.212784</td>\n",
       "      <td>-0.104956</td>\n",
       "      <td>1.355781</td>\n",
       "      <td>-0.053063</td>\n",
       "      <td>0.125386</td>\n",
       "      <td>0.0</td>\n",
       "      <td>0</td>\n",
       "      <td>bc3f2800-a4bb-4077-b017-f55f03c4f00c</td>\n",
       "      <td>TEST</td>\n",
       "    </tr>\n",
       "    <tr>\n",
       "      <th>4</th>\n",
       "      <td>0</td>\n",
       "      <td>0.893047</td>\n",
       "      <td>[{'feature': 'V14', 'attribution': -0.70080886...</td>\n",
       "      <td>-2.729672</td>\n",
       "      <td>-2.122247</td>\n",
       "      <td>0.0</td>\n",
       "      <td>132292</td>\n",
       "      <td>-0.394434</td>\n",
       "      <td>0.665005</td>\n",
       "      <td>-1.073298</td>\n",
       "      <td>...</td>\n",
       "      <td>-0.514307</td>\n",
       "      <td>0.080043</td>\n",
       "      <td>0.517317</td>\n",
       "      <td>0.580971</td>\n",
       "      <td>0.006539</td>\n",
       "      <td>0.132589</td>\n",
       "      <td>0.0</td>\n",
       "      <td>0</td>\n",
       "      <td>181ee7ba-e3b0-4a34-9ebd-50ce98c4a350</td>\n",
       "      <td>TEST</td>\n",
       "    </tr>\n",
       "  </tbody>\n",
       "</table>\n",
       "<p>5 rows × 39 columns</p>\n",
       "</div>"
      ],
      "text/plain": [
       "   predicted_Class  probability  \\\n",
       "0                0     0.900994   \n",
       "1                0     0.816486   \n",
       "2                0     0.973629   \n",
       "3                0     0.874517   \n",
       "4                0     0.893047   \n",
       "\n",
       "                            top_feature_attributions  \\\n",
       "0  [{'feature': 'V4', 'attribution': 1.0706656100...   \n",
       "1  [{'feature': 'V4', 'attribution': 1.7751662324...   \n",
       "2  [{'feature': 'V12', 'attribution': 0.874458991...   \n",
       "3  [{'feature': 'V4', 'attribution': 1.6008017257...   \n",
       "4  [{'feature': 'V14', 'attribution': -0.70080886...   \n",
       "\n",
       "   baseline_prediction_value  prediction_value  approximation_error    Time  \\\n",
       "0                  -2.729672         -2.208318                  0.0   79470   \n",
       "1                  -2.729672         -1.492718                  0.0  122082   \n",
       "2                  -2.729672         -3.608754                  0.0   11494   \n",
       "3                  -2.729672         -1.941498                  0.0   58900   \n",
       "4                  -2.729672         -2.122247                  0.0  132292   \n",
       "\n",
       "         V1        V2        V3  ...       V23       V24       V25       V26  \\\n",
       "0  1.073063 -0.026793  0.796502  ...  0.048539 -0.258218  0.171861  1.028847   \n",
       "1  1.878563  0.020785 -1.621113  ...  0.121098  0.707538  0.140100  0.155684   \n",
       "2 -1.169744  0.462878  1.587579  ... -0.042144 -0.021269 -0.283979  0.556661   \n",
       "3 -2.728403 -2.340346  2.551039  ...  0.370139 -0.212784 -0.104956  1.355781   \n",
       "4 -0.394434  0.665005 -1.073298  ... -0.514307  0.080043  0.517317  0.580971   \n",
       "\n",
       "        V27       V28  Amount  Class                        transaction_id  \\\n",
       "0 -0.037692 -0.013125     0.0      0  07fdced0-3837-47a1-9526-64d74ad9b113   \n",
       "1  0.016375 -0.053892     0.0      0  7c1f61ba-7586-414e-ba8a-1c4385d59933   \n",
       "2 -0.191722 -0.071773     0.0      0  a3046c87-cee5-40fd-9302-4d230b823246   \n",
       "3 -0.053063  0.125386     0.0      0  bc3f2800-a4bb-4077-b017-f55f03c4f00c   \n",
       "4  0.006539  0.132589     0.0      0  181ee7ba-e3b0-4a34-9ebd-50ce98c4a350   \n",
       "\n",
       "   splits  \n",
       "0    TEST  \n",
       "1    TEST  \n",
       "2    TEST  \n",
       "3    TEST  \n",
       "4    TEST  \n",
       "\n",
       "[5 rows x 39 columns]"
      ]
     },
     "execution_count": 20,
     "metadata": {},
     "output_type": "execute_result"
    }
   ],
   "source": [
    "explain.head()"
   ]
  },
  {
   "cell_type": "code",
   "execution_count": 35,
   "id": "3645d9e5-b411-40f2-953a-c45a2c160664",
   "metadata": {},
   "outputs": [
    {
     "data": {
      "image/png": "[encoded data removed]",
      "text/plain": [
       "<Figure size 648x648 with 1 Axes>"
      ]
     },
     "metadata": {
      "needs_background": "light"
     },
     "output_type": "display_data"
    }
   ],
   "source": [
    "import matplotlib.pyplot as plt\n",
    "features = []\n",
    "scores = []\n",
    "for k in explain.iloc[0]['top_feature_attributions']:\n",
    "    features.append(k['feature'])\n",
    "    scores.append(k['attribution'])\n",
    "features = [x for _, x in sorted(zip(scores, features))]\n",
    "scores = sorted(scores)\n",
    "fig, ax = plt.subplots()\n",
    "fig.set_size_inches(9, 9)\n",
    "ax.barh(features, scores)\n",
    "fig.show()"
   ]
  }
 ],
 "metadata": {
  "environment": {
   "kernel": "python3",
   "name": "tf2-gpu.2-6.m90",
   "type": "gcloud",
   "uri": "gcr.io/deeplearning-platform-release/tf2-gpu.2-6:m90"
  },
  "kernelspec": {
   "display_name": "Python 3",
   "language": "python",
   "name": "python3"
  },
  "language_info": {
   "codemirror_mode": {
    "name": "ipython",
    "version": 3
   },
   "file_extension": ".py",
   "mimetype": "text/x-python",
   "name": "python",
   "nbconvert_exporter": "python",
   "pygments_lexer": "ipython3",
   "version": "3.7.12"
  }
 },
 "nbformat": 4,
 "nbformat_minor": 5
}
