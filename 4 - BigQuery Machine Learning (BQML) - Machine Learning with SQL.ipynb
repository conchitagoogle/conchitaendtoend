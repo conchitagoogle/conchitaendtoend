{
 "cells": [
  {
   "cell_type": "markdown",
   "id": "b3ccbadc",
   "metadata": {},
   "source": [
    "# 03a - BigQuery Machine Learning (BQML) - Machine Learning with SQL\n",
    "\n",
    "BigQuery has a number of machine learning algorithms callable directly from SQL.  This gives the convenience of using the common language of SQL to \"CREATE MODEL …).  The library of available models is constantly growing and covers supervised, unsupervised, and time series methods as well as functions for evaluation - even anomaly detection from results, explainability and hyperparameter tuning.  A great starting point for seeing the scope of available methods is the [user journey for models](https://cloud.google.com/bigquery-ml/docs/reference/standard-sql/bigqueryml-syntax-e2e-journey).\n",
    "\n",
    "In this demonstration, BigQuery ML (BQML) is used to create a logistic regression model.\n",
    "\n",
    "\n",
    "\n",
    "### Prerequisites:\n",
    "-  01 - BigQuery - Table Data Source\n",
    "\n",
    "### Overview:\n",
    "-  Train logistic regression model with BQML\n",
    "   -  CREATE MODEL …. model_type=\"LOGISTIC_REG\"\n",
    "-  Review training information\n",
    "   -  SELECT * FROM ML.TRAINING_INFO…\n",
    "-  Evaluated the models performance\n",
    "   -  SELECT * FROM ML.EVALUATE…\n",
    "-  Review the classification errors with a confusion matrix\n",
    "   -  SELECT * FROM ML.CONFUSION_MATRIX…\n",
    "-  Create prediction for data in BigQuery\n",
    "   -  SELECT * FROM ML.PREDICT\n",
    "\n",
    "### Resources:\n",
    "-  [BigQuery ML (BQML) Overview](https://cloud.google.com/bigquery-ml/docs/introduction)\n",
    "-  [Overview of BQML methods and workflows](https://cloud.google.com/bigquery-ml/docs/reference/standard-sql/bigqueryml-syntax-e2e-journey)\n",
    "-  [BigQuery magics for jupyter notebooks](https://github.com/GoogleCloudPlatform/bigquery-notebooks/blob/main/notebooks/official/template_notebooks/bigquery_magic.ipynb)\n"
   ]
  },
  {
   "cell_type": "markdown",
   "id": "9efb7249",
   "metadata": {},
   "source": [
    "---\n",
    "## Setup"
   ]
  },
  {
   "cell_type": "markdown",
   "id": "5120acf8",
   "metadata": {},
   "source": [
    "inputs:"
   ]
  },
  {
   "cell_type": "code",
   "execution_count": 1,
   "id": "d7e73d29",
   "metadata": {},
   "outputs": [],
   "source": [
    "REGION = 'us-central1'\n",
    "PROJECT_ID='qwiklabs-gcp-04-24efb7132888'\n",
    "DATANAME = 'fraud'\n",
    "NOTEBOOK = '4'\n",
    "\n",
    "# Model Training\n",
    "VAR_TARGET = 'Class'\n",
    "VAR_OMIT = 'transaction_id' # add more variables to the string with space delimiters"
   ]
  },
  {
   "cell_type": "markdown",
   "id": "4aa71004",
   "metadata": {},
   "source": [
    "packages:"
   ]
  },
  {
   "cell_type": "code",
   "execution_count": 2,
   "id": "4aa7cd23",
   "metadata": {},
   "outputs": [],
   "source": [
    "from google.cloud import bigquery"
   ]
  },
  {
   "cell_type": "markdown",
   "id": "dbe01073",
   "metadata": {},
   "source": [
    "clients:"
   ]
  },
  {
   "cell_type": "code",
   "execution_count": 3,
   "id": "3baa671e",
   "metadata": {},
   "outputs": [],
   "source": [
    "bigquery = bigquery.Client()"
   ]
  },
  {
   "cell_type": "markdown",
   "id": "5686a4bb",
   "metadata": {},
   "source": [
    "---\n",
    "## Train Model\n",
    "\n",
    "Use BigQuery ML to train multiclass logistic regression model:\n",
    "- https://cloud.google.com/bigquery-ml/docs/reference/standard-sql/bigqueryml-syntax-create-glm\n",
    "- This uses the `splits` column that notebook `01` created\n",
    "- `data_split_method = CUSTOM` uses the column in `data_split_col` to assign training data for `FALSE` values and evaluation data for `TRUE` values."
   ]
  },
  {
   "cell_type": "code",
   "execution_count": 4,
   "id": "8ec35834",
   "metadata": {},
   "outputs": [
    {
     "data": {
      "text/plain": [
       "<google.cloud.bigquery.table._EmptyRowIterator at 0x7f1e577018d0>"
      ]
     },
     "execution_count": 4,
     "metadata": {},
     "output_type": "execute_result"
    }
   ],
   "source": [
    "query = f\"\"\"\n",
    "CREATE OR REPLACE MODEL `{DATANAME}.{DATANAME}_lr`\n",
    "OPTIONS\n",
    "    (model_type = 'LOGISTIC_REG',\n",
    "        auto_class_weights = TRUE,\n",
    "        input_label_cols = ['{VAR_TARGET}'],\n",
    "        data_split_col = 'custom_splits',\n",
    "        data_split_method = 'CUSTOM'\n",
    "    ) AS\n",
    "SELECT * EXCEPT({','.join(VAR_OMIT.split())}, splits),\n",
    "    CASE\n",
    "        WHEN splits = 'TRAIN' THEN FALSE\n",
    "        ELSE TRUE\n",
    "    END AS custom_splits\n",
    "FROM `{DATANAME}.{DATANAME}_prepped`\n",
    "WHERE splits != 'TEST'\n",
    "\"\"\"\n",
    "job = bigquery.query(query = query)\n",
    "job.result()"
   ]
  },
  {
   "cell_type": "code",
   "execution_count": 5,
   "id": "e3a6b5f1",
   "metadata": {},
   "outputs": [
    {
     "data": {
      "text/plain": [
       "141.666"
      ]
     },
     "execution_count": 5,
     "metadata": {},
     "output_type": "execute_result"
    }
   ],
   "source": [
    "(job.ended-job.started).total_seconds()"
   ]
  },
  {
   "cell_type": "markdown",
   "id": "c30f3d34",
   "metadata": {},
   "source": [
    "Review the iterations from training:"
   ]
  },
  {
   "cell_type": "code",
   "execution_count": 6,
   "id": "14d2757d",
   "metadata": {},
   "outputs": [
    {
     "data": {
      "text/html": [
       "<div>\n",
       "<style scoped>\n",
       "    .dataframe tbody tr th:only-of-type {\n",
       "        vertical-align: middle;\n",
       "    }\n",
       "\n",
       "    .dataframe tbody tr th {\n",
       "        vertical-align: top;\n",
       "    }\n",
       "\n",
       "    .dataframe thead th {\n",
       "        text-align: right;\n",
       "    }\n",
       "</style>\n",
       "<table border=\"1\" class=\"dataframe\">\n",
       "  <thead>\n",
       "    <tr style=\"text-align: right;\">\n",
       "      <th></th>\n",
       "      <th>training_run</th>\n",
       "      <th>iteration</th>\n",
       "      <th>loss</th>\n",
       "      <th>eval_loss</th>\n",
       "      <th>learning_rate</th>\n",
       "      <th>duration_ms</th>\n",
       "    </tr>\n",
       "  </thead>\n",
       "  <tbody>\n",
       "    <tr>\n",
       "      <th>0</th>\n",
       "      <td>0</td>\n",
       "      <td>0</td>\n",
       "      <td>0.683526</td>\n",
       "      <td>0.687413</td>\n",
       "      <td>0.2</td>\n",
       "      <td>9059</td>\n",
       "    </tr>\n",
       "    <tr>\n",
       "      <th>1</th>\n",
       "      <td>0</td>\n",
       "      <td>1</td>\n",
       "      <td>0.645520</td>\n",
       "      <td>0.649406</td>\n",
       "      <td>0.4</td>\n",
       "      <td>9894</td>\n",
       "    </tr>\n",
       "    <tr>\n",
       "      <th>2</th>\n",
       "      <td>0</td>\n",
       "      <td>2</td>\n",
       "      <td>0.577902</td>\n",
       "      <td>0.581785</td>\n",
       "      <td>0.8</td>\n",
       "      <td>8540</td>\n",
       "    </tr>\n",
       "    <tr>\n",
       "      <th>3</th>\n",
       "      <td>0</td>\n",
       "      <td>3</td>\n",
       "      <td>0.470735</td>\n",
       "      <td>0.474607</td>\n",
       "      <td>1.6</td>\n",
       "      <td>9503</td>\n",
       "    </tr>\n",
       "    <tr>\n",
       "      <th>4</th>\n",
       "      <td>0</td>\n",
       "      <td>4</td>\n",
       "      <td>0.334959</td>\n",
       "      <td>0.338812</td>\n",
       "      <td>3.2</td>\n",
       "      <td>11055</td>\n",
       "    </tr>\n",
       "    <tr>\n",
       "      <th>5</th>\n",
       "      <td>0</td>\n",
       "      <td>5</td>\n",
       "      <td>0.217540</td>\n",
       "      <td>0.221326</td>\n",
       "      <td>6.4</td>\n",
       "      <td>9161</td>\n",
       "    </tr>\n",
       "    <tr>\n",
       "      <th>6</th>\n",
       "      <td>0</td>\n",
       "      <td>6</td>\n",
       "      <td>0.159281</td>\n",
       "      <td>0.162791</td>\n",
       "      <td>12.8</td>\n",
       "      <td>10208</td>\n",
       "    </tr>\n",
       "    <tr>\n",
       "      <th>7</th>\n",
       "      <td>0</td>\n",
       "      <td>7</td>\n",
       "      <td>0.117795</td>\n",
       "      <td>0.120979</td>\n",
       "      <td>25.6</td>\n",
       "      <td>9508</td>\n",
       "    </tr>\n",
       "  </tbody>\n",
       "</table>\n",
       "</div>"
      ],
      "text/plain": [
       "   training_run  iteration      loss  eval_loss  learning_rate  duration_ms\n",
       "0             0          0  0.683526   0.687413            0.2         9059\n",
       "1             0          1  0.645520   0.649406            0.4         9894\n",
       "2             0          2  0.577902   0.581785            0.8         8540\n",
       "3             0          3  0.470735   0.474607            1.6         9503\n",
       "4             0          4  0.334959   0.338812            3.2        11055\n",
       "5             0          5  0.217540   0.221326            6.4         9161\n",
       "6             0          6  0.159281   0.162791           12.8        10208\n",
       "7             0          7  0.117795   0.120979           25.6         9508"
      ]
     },
     "execution_count": 6,
     "metadata": {},
     "output_type": "execute_result"
    }
   ],
   "source": [
    "bigquery.query(query=f\"SELECT * FROM ML.TRAINING_INFO(MODEL `{DATANAME}.{DATANAME}_lr`) ORDER BY iteration\").to_dataframe()"
   ]
  },
  {
   "cell_type": "markdown",
   "id": "e993eee1-1a45-4fee-9c32-5b9412b4c88f",
   "metadata": {},
   "source": [
    "### Check out this model in BigQuery Console:\n",
    "- Click: https://console.cloud.google.com/bigquery\n",
    "- Make sure project selected is the one from this notebook\n",
    "- Under Explore, expand this project and dataset\n",
    "- Expand Models and select the model create here"
   ]
  },
  {
   "cell_type": "markdown",
   "id": "3801418e",
   "metadata": {},
   "source": [
    "---\n",
    "## Evaluate Model"
   ]
  },
  {
   "cell_type": "markdown",
   "id": "e7820b93",
   "metadata": {},
   "source": [
    "Review the model evaluation statistics on the Test/Train splits:"
   ]
  },
  {
   "cell_type": "code",
   "execution_count": 7,
   "id": "cc215352",
   "metadata": {},
   "outputs": [
    {
     "data": {
      "text/html": [
       "<div>\n",
       "<style scoped>\n",
       "    .dataframe tbody tr th:only-of-type {\n",
       "        vertical-align: middle;\n",
       "    }\n",
       "\n",
       "    .dataframe tbody tr th {\n",
       "        vertical-align: top;\n",
       "    }\n",
       "\n",
       "    .dataframe thead th {\n",
       "        text-align: right;\n",
       "    }\n",
       "</style>\n",
       "<table border=\"1\" class=\"dataframe\">\n",
       "  <thead>\n",
       "    <tr style=\"text-align: right;\">\n",
       "      <th></th>\n",
       "      <th>SPLIT</th>\n",
       "      <th>precision</th>\n",
       "      <th>recall</th>\n",
       "      <th>accuracy</th>\n",
       "      <th>f1_score</th>\n",
       "      <th>log_loss</th>\n",
       "      <th>roc_auc</th>\n",
       "    </tr>\n",
       "  </thead>\n",
       "  <tbody>\n",
       "    <tr>\n",
       "      <th>0</th>\n",
       "      <td>TEST</td>\n",
       "      <td>0.070076</td>\n",
       "      <td>0.880952</td>\n",
       "      <td>0.982485</td>\n",
       "      <td>0.129825</td>\n",
       "      <td>0.117651</td>\n",
       "      <td>0.963773</td>\n",
       "    </tr>\n",
       "    <tr>\n",
       "      <th>1</th>\n",
       "      <td>TRAIN</td>\n",
       "      <td>0.086853</td>\n",
       "      <td>0.910448</td>\n",
       "      <td>0.982951</td>\n",
       "      <td>0.158579</td>\n",
       "      <td>0.119818</td>\n",
       "      <td>0.986897</td>\n",
       "    </tr>\n",
       "  </tbody>\n",
       "</table>\n",
       "</div>"
      ],
      "text/plain": [
       "   SPLIT  precision    recall  accuracy  f1_score  log_loss   roc_auc\n",
       "0   TEST   0.070076  0.880952  0.982485  0.129825  0.117651  0.963773\n",
       "1  TRAIN   0.086853  0.910448  0.982951  0.158579  0.119818  0.986897"
      ]
     },
     "execution_count": 7,
     "metadata": {},
     "output_type": "execute_result"
    }
   ],
   "source": [
    "query = f\"\"\"\n",
    "SELECT 'TRAIN' as SPLIT, * FROM ML.EVALUATE (MODEL `{DATANAME}.{DATANAME}_lr`,\n",
    "    (SELECT * FROM `{DATANAME}.{DATANAME}_prepped` WHERE SPLITS='TRAIN'))\n",
    "UNION ALL\n",
    "SELECT 'TEST' as SPLIT, * FROM ML.EVALUATE (MODEL `{DATANAME}.{DATANAME}_lr`,\n",
    "    (SELECT * FROM `{DATANAME}.{DATANAME}_prepped` WHERE SPLITS='TEST'))\n",
    "\"\"\"\n",
    "bigquery.query(query = query).to_dataframe()"
   ]
  },
  {
   "cell_type": "markdown",
   "id": "51559961",
   "metadata": {},
   "source": [
    "Review the confusion matrix for each split:"
   ]
  },
  {
   "cell_type": "code",
   "execution_count": 8,
   "id": "0feb32e9",
   "metadata": {},
   "outputs": [
    {
     "data": {
      "text/html": [
       "<div>\n",
       "<style scoped>\n",
       "    .dataframe tbody tr th:only-of-type {\n",
       "        vertical-align: middle;\n",
       "    }\n",
       "\n",
       "    .dataframe tbody tr th {\n",
       "        vertical-align: top;\n",
       "    }\n",
       "\n",
       "    .dataframe thead th {\n",
       "        text-align: right;\n",
       "    }\n",
       "</style>\n",
       "<table border=\"1\" class=\"dataframe\">\n",
       "  <thead>\n",
       "    <tr style=\"text-align: right;\">\n",
       "      <th></th>\n",
       "      <th>expected_label</th>\n",
       "      <th>_0</th>\n",
       "      <th>_1</th>\n",
       "    </tr>\n",
       "  </thead>\n",
       "  <tbody>\n",
       "    <tr>\n",
       "      <th>0</th>\n",
       "      <td>0</td>\n",
       "      <td>223563</td>\n",
       "      <td>3848</td>\n",
       "    </tr>\n",
       "    <tr>\n",
       "      <th>1</th>\n",
       "      <td>1</td>\n",
       "      <td>36</td>\n",
       "      <td>366</td>\n",
       "    </tr>\n",
       "  </tbody>\n",
       "</table>\n",
       "</div>"
      ],
      "text/plain": [
       "   expected_label      _0    _1\n",
       "0               0  223563  3848\n",
       "1               1      36   366"
      ]
     },
     "execution_count": 8,
     "metadata": {},
     "output_type": "execute_result"
    }
   ],
   "source": [
    "query = f\"\"\"\n",
    "SELECT *\n",
    "FROM ML.CONFUSION_MATRIX (MODEL `{DATANAME}.{DATANAME}_lr`,(\n",
    "    SELECT *\n",
    "    FROM `{DATANAME}.{DATANAME}_prepped`\n",
    "    WHERE splits = 'TRAIN')\n",
    "  )\n",
    "\"\"\"\n",
    "bigquery.query(query = query).to_dataframe()"
   ]
  },
  {
   "cell_type": "code",
   "execution_count": 9,
   "id": "b26c799e",
   "metadata": {},
   "outputs": [
    {
     "data": {
      "text/html": [
       "<div>\n",
       "<style scoped>\n",
       "    .dataframe tbody tr th:only-of-type {\n",
       "        vertical-align: middle;\n",
       "    }\n",
       "\n",
       "    .dataframe tbody tr th {\n",
       "        vertical-align: top;\n",
       "    }\n",
       "\n",
       "    .dataframe thead th {\n",
       "        text-align: right;\n",
       "    }\n",
       "</style>\n",
       "<table border=\"1\" class=\"dataframe\">\n",
       "  <thead>\n",
       "    <tr style=\"text-align: right;\">\n",
       "      <th></th>\n",
       "      <th>expected_label</th>\n",
       "      <th>_0</th>\n",
       "      <th>_1</th>\n",
       "    </tr>\n",
       "  </thead>\n",
       "  <tbody>\n",
       "    <tr>\n",
       "      <th>0</th>\n",
       "      <td>0</td>\n",
       "      <td>28137</td>\n",
       "      <td>490</td>\n",
       "    </tr>\n",
       "    <tr>\n",
       "      <th>1</th>\n",
       "      <td>1</td>\n",
       "      <td>2</td>\n",
       "      <td>46</td>\n",
       "    </tr>\n",
       "  </tbody>\n",
       "</table>\n",
       "</div>"
      ],
      "text/plain": [
       "   expected_label     _0   _1\n",
       "0               0  28137  490\n",
       "1               1      2   46"
      ]
     },
     "execution_count": 9,
     "metadata": {},
     "output_type": "execute_result"
    }
   ],
   "source": [
    "query = f\"\"\"\n",
    "SELECT *\n",
    "FROM ML.CONFUSION_MATRIX (MODEL `{DATANAME}.{DATANAME}_lr`,(\n",
    "    SELECT *\n",
    "    FROM `{DATANAME}.{DATANAME}_prepped`\n",
    "    WHERE splits = 'VALIDATE')\n",
    "  )\n",
    "\"\"\"\n",
    "bigquery.query(query = query).to_dataframe()"
   ]
  },
  {
   "cell_type": "code",
   "execution_count": 10,
   "id": "c1251bc5",
   "metadata": {},
   "outputs": [
    {
     "data": {
      "text/html": [
       "<div>\n",
       "<style scoped>\n",
       "    .dataframe tbody tr th:only-of-type {\n",
       "        vertical-align: middle;\n",
       "    }\n",
       "\n",
       "    .dataframe tbody tr th {\n",
       "        vertical-align: top;\n",
       "    }\n",
       "\n",
       "    .dataframe thead th {\n",
       "        text-align: right;\n",
       "    }\n",
       "</style>\n",
       "<table border=\"1\" class=\"dataframe\">\n",
       "  <thead>\n",
       "    <tr style=\"text-align: right;\">\n",
       "      <th></th>\n",
       "      <th>expected_label</th>\n",
       "      <th>_0</th>\n",
       "      <th>_1</th>\n",
       "    </tr>\n",
       "  </thead>\n",
       "  <tbody>\n",
       "    <tr>\n",
       "      <th>0</th>\n",
       "      <td>0</td>\n",
       "      <td>27786</td>\n",
       "      <td>491</td>\n",
       "    </tr>\n",
       "    <tr>\n",
       "      <th>1</th>\n",
       "      <td>1</td>\n",
       "      <td>5</td>\n",
       "      <td>37</td>\n",
       "    </tr>\n",
       "  </tbody>\n",
       "</table>\n",
       "</div>"
      ],
      "text/plain": [
       "   expected_label     _0   _1\n",
       "0               0  27786  491\n",
       "1               1      5   37"
      ]
     },
     "execution_count": 10,
     "metadata": {},
     "output_type": "execute_result"
    }
   ],
   "source": [
    "query = f\"\"\"\n",
    "SELECT *\n",
    "FROM ML.CONFUSION_MATRIX (MODEL `{DATANAME}.{DATANAME}_lr`,(\n",
    "    SELECT *\n",
    "    FROM `{DATANAME}.{DATANAME}_prepped`\n",
    "    WHERE splits = 'TEST')\n",
    "  )\n",
    "\"\"\"\n",
    "bigquery.query(query = query).to_dataframe()"
   ]
  },
  {
   "cell_type": "markdown",
   "id": "567d51f8",
   "metadata": {},
   "source": [
    "---\n",
    "## Predictions"
   ]
  },
  {
   "cell_type": "markdown",
   "id": "0d0065d0",
   "metadata": {},
   "source": [
    "Create a pandas dataframe with predictions for the test data in the table:"
   ]
  },
  {
   "cell_type": "code",
   "execution_count": 11,
   "id": "11007445",
   "metadata": {},
   "outputs": [],
   "source": [
    "query = f\"\"\"\n",
    "SELECT *\n",
    "FROM ML.PREDICT (MODEL `{DATANAME}.{DATANAME}_lr`,(\n",
    "    SELECT *\n",
    "    FROM `{DATANAME}.{DATANAME}_prepped`\n",
    "    WHERE splits = 'TEST')\n",
    "  )\n",
    "\"\"\"\n",
    "pred = bigquery.query(query = query).to_dataframe()"
   ]
  },
  {
   "cell_type": "markdown",
   "id": "39907308",
   "metadata": {},
   "source": [
    "Review columns from the predictions - note that the query added columns with prefix `predicted_`"
   ]
  },
  {
   "cell_type": "code",
   "execution_count": 12,
   "id": "78c44b1f",
   "metadata": {},
   "outputs": [
    {
     "data": {
      "text/plain": [
       "Index(['predicted_Class', 'predicted_Class_probs', 'Time', 'V1', 'V2', 'V3',\n",
       "       'V4', 'V5', 'V6', 'V7', 'V8', 'V9', 'V10', 'V11', 'V12', 'V13', 'V14',\n",
       "       'V15', 'V16', 'V17', 'V18', 'V19', 'V20', 'V21', 'V22', 'V23', 'V24',\n",
       "       'V25', 'V26', 'V27', 'V28', 'Amount', 'Class', 'transaction_id',\n",
       "       'splits'],\n",
       "      dtype='object')"
      ]
     },
     "execution_count": 12,
     "metadata": {},
     "output_type": "execute_result"
    }
   ],
   "source": [
    "pred.columns"
   ]
  },
  {
   "cell_type": "markdown",
   "id": "4b072761",
   "metadata": {},
   "source": [
    "Print the first few rows for the columns related to the actual and predicted values:"
   ]
  },
  {
   "cell_type": "code",
   "execution_count": 13,
   "id": "c66df846",
   "metadata": {},
   "outputs": [
    {
     "data": {
      "text/html": [
       "<div>\n",
       "<style scoped>\n",
       "    .dataframe tbody tr th:only-of-type {\n",
       "        vertical-align: middle;\n",
       "    }\n",
       "\n",
       "    .dataframe tbody tr th {\n",
       "        vertical-align: top;\n",
       "    }\n",
       "\n",
       "    .dataframe thead th {\n",
       "        text-align: right;\n",
       "    }\n",
       "</style>\n",
       "<table border=\"1\" class=\"dataframe\">\n",
       "  <thead>\n",
       "    <tr style=\"text-align: right;\">\n",
       "      <th></th>\n",
       "      <th>Class</th>\n",
       "      <th>predicted_Class</th>\n",
       "      <th>predicted_Class_probs</th>\n",
       "      <th>splits</th>\n",
       "    </tr>\n",
       "  </thead>\n",
       "  <tbody>\n",
       "    <tr>\n",
       "      <th>0</th>\n",
       "      <td>0</td>\n",
       "      <td>0</td>\n",
       "      <td>[{'label': 1, 'prob': 0.016677809567183694}, {...</td>\n",
       "      <td>TEST</td>\n",
       "    </tr>\n",
       "    <tr>\n",
       "      <th>1</th>\n",
       "      <td>0</td>\n",
       "      <td>0</td>\n",
       "      <td>[{'label': 1, 'prob': 0.12353822640243221}, {'...</td>\n",
       "      <td>TEST</td>\n",
       "    </tr>\n",
       "    <tr>\n",
       "      <th>2</th>\n",
       "      <td>0</td>\n",
       "      <td>0</td>\n",
       "      <td>[{'label': 1, 'prob': 0.029337251188270845}, {...</td>\n",
       "      <td>TEST</td>\n",
       "    </tr>\n",
       "    <tr>\n",
       "      <th>3</th>\n",
       "      <td>0</td>\n",
       "      <td>0</td>\n",
       "      <td>[{'label': 1, 'prob': 0.07247836562929151}, {'...</td>\n",
       "      <td>TEST</td>\n",
       "    </tr>\n",
       "    <tr>\n",
       "      <th>4</th>\n",
       "      <td>0</td>\n",
       "      <td>0</td>\n",
       "      <td>[{'label': 1, 'prob': 0.14398829890550113}, {'...</td>\n",
       "      <td>TEST</td>\n",
       "    </tr>\n",
       "  </tbody>\n",
       "</table>\n",
       "</div>"
      ],
      "text/plain": [
       "   Class  predicted_Class                              predicted_Class_probs  \\\n",
       "0      0                0  [{'label': 1, 'prob': 0.016677809567183694}, {...   \n",
       "1      0                0  [{'label': 1, 'prob': 0.12353822640243221}, {'...   \n",
       "2      0                0  [{'label': 1, 'prob': 0.029337251188270845}, {...   \n",
       "3      0                0  [{'label': 1, 'prob': 0.07247836562929151}, {'...   \n",
       "4      0                0  [{'label': 1, 'prob': 0.14398829890550113}, {'...   \n",
       "\n",
       "  splits  \n",
       "0   TEST  \n",
       "1   TEST  \n",
       "2   TEST  \n",
       "3   TEST  \n",
       "4   TEST  "
      ]
     },
     "execution_count": 13,
     "metadata": {},
     "output_type": "execute_result"
    }
   ],
   "source": [
    "pred[[VAR_TARGET, f'predicted_{VAR_TARGET}', f'predicted_{VAR_TARGET}_probs', 'splits']].head()"
   ]
  },
  {
   "cell_type": "markdown",
   "id": "abcf9a35",
   "metadata": {},
   "source": [
    "Notice the nested dictionary for predicted probabilities.  In BigQuery this is a Record type structure with nested fields for `label` and `prop`.  This is returned to the pandas dataframe as a nested dictionary.\n",
    "\n",
    "The following code sorts the dictionary for the first record by `prob`:"
   ]
  },
  {
   "cell_type": "code",
   "execution_count": 14,
   "id": "b213c1f7",
   "metadata": {},
   "outputs": [
    {
     "data": {
      "text/plain": [
       "[[{'label': 0, 'prob': 0.9833221904328163},\n",
       "  {'label': 1, 'prob': 0.016677809567183694}]]"
      ]
     },
     "execution_count": 14,
     "metadata": {},
     "output_type": "execute_result"
    }
   ],
   "source": [
    "exec('temp = pred.predicted_'+VAR_TARGET+'_probs[0]')\n",
    "[sorted(x, key = lambda x: x['label']) for x in [temp]]"
   ]
  },
  {
   "cell_type": "markdown",
   "id": "e3d40959-4812-4094-a2f9-5452d7273c89",
   "metadata": {},
   "source": [
    "---\n",
    "## Explanations\n",
    "https://cloud.google.com/bigquery-ml/docs/reference/standard-sql/bigqueryml-syntax-explain-predict"
   ]
  },
  {
   "cell_type": "code",
   "execution_count": 15,
   "id": "219fd574-6971-4e8a-8805-fdd2d3514a69",
   "metadata": {},
   "outputs": [],
   "source": [
    "query = f\"\"\"\n",
    "SELECT *\n",
    "FROM ML.EXPLAIN_PREDICT (MODEL `{DATANAME}.{DATANAME}_lr`,(\n",
    "    SELECT *\n",
    "    FROM `{DATANAME}.{DATANAME}_prepped`\n",
    "    WHERE splits = 'TEST'), STRUCT(10 as top_k_features)\n",
    "  )\n",
    "\"\"\"\n",
    "explain = bigquery.query(query = query).to_dataframe()"
   ]
  },
  {
   "cell_type": "code",
   "execution_count": 16,
   "id": "6b9e6324-b1c5-477d-95c8-c3338738fec0",
   "metadata": {},
   "outputs": [
    {
     "data": {
      "text/html": [
       "<div>\n",
       "<style scoped>\n",
       "    .dataframe tbody tr th:only-of-type {\n",
       "        vertical-align: middle;\n",
       "    }\n",
       "\n",
       "    .dataframe tbody tr th {\n",
       "        vertical-align: top;\n",
       "    }\n",
       "\n",
       "    .dataframe thead th {\n",
       "        text-align: right;\n",
       "    }\n",
       "</style>\n",
       "<table border=\"1\" class=\"dataframe\">\n",
       "  <thead>\n",
       "    <tr style=\"text-align: right;\">\n",
       "      <th></th>\n",
       "      <th>predicted_Class</th>\n",
       "      <th>probability</th>\n",
       "      <th>top_feature_attributions</th>\n",
       "      <th>baseline_prediction_value</th>\n",
       "      <th>prediction_value</th>\n",
       "      <th>approximation_error</th>\n",
       "      <th>Time</th>\n",
       "      <th>V1</th>\n",
       "      <th>V2</th>\n",
       "      <th>V3</th>\n",
       "      <th>...</th>\n",
       "      <th>V23</th>\n",
       "      <th>V24</th>\n",
       "      <th>V25</th>\n",
       "      <th>V26</th>\n",
       "      <th>V27</th>\n",
       "      <th>V28</th>\n",
       "      <th>Amount</th>\n",
       "      <th>Class</th>\n",
       "      <th>transaction_id</th>\n",
       "      <th>splits</th>\n",
       "    </tr>\n",
       "  </thead>\n",
       "  <tbody>\n",
       "    <tr>\n",
       "      <th>0</th>\n",
       "      <td>0</td>\n",
       "      <td>0.983322</td>\n",
       "      <td>[{'feature': 'V14', 'attribution': -1.43401346...</td>\n",
       "      <td>-2.754863</td>\n",
       "      <td>-4.076858</td>\n",
       "      <td>0.0</td>\n",
       "      <td>108552</td>\n",
       "      <td>-0.800747</td>\n",
       "      <td>1.185243</td>\n",
       "      <td>-1.307864</td>\n",
       "      <td>...</td>\n",
       "      <td>0.244974</td>\n",
       "      <td>0.081168</td>\n",
       "      <td>-1.856601</td>\n",
       "      <td>-1.159921</td>\n",
       "      <td>-0.300115</td>\n",
       "      <td>0.172426</td>\n",
       "      <td>0.0</td>\n",
       "      <td>0</td>\n",
       "      <td>683f3632-4d23-46b1-bc28-bdea77438e0a</td>\n",
       "      <td>TEST</td>\n",
       "    </tr>\n",
       "    <tr>\n",
       "      <th>1</th>\n",
       "      <td>0</td>\n",
       "      <td>0.876462</td>\n",
       "      <td>[{'feature': 'V4', 'attribution': 2.1559158191...</td>\n",
       "      <td>-2.754863</td>\n",
       "      <td>-1.959342</td>\n",
       "      <td>0.0</td>\n",
       "      <td>152933</td>\n",
       "      <td>1.899377</td>\n",
       "      <td>0.520212</td>\n",
       "      <td>-0.397464</td>\n",
       "      <td>...</td>\n",
       "      <td>0.509313</td>\n",
       "      <td>0.172632</td>\n",
       "      <td>-0.523424</td>\n",
       "      <td>-0.628977</td>\n",
       "      <td>-0.015943</td>\n",
       "      <td>-0.037275</td>\n",
       "      <td>0.0</td>\n",
       "      <td>0</td>\n",
       "      <td>9b621701-7e1d-44ee-b83f-0872c3feac62</td>\n",
       "      <td>TEST</td>\n",
       "    </tr>\n",
       "    <tr>\n",
       "      <th>2</th>\n",
       "      <td>0</td>\n",
       "      <td>0.970663</td>\n",
       "      <td>[{'feature': 'V12', 'attribution': -0.87511240...</td>\n",
       "      <td>-2.754863</td>\n",
       "      <td>-3.499121</td>\n",
       "      <td>0.0</td>\n",
       "      <td>169514</td>\n",
       "      <td>1.983349</td>\n",
       "      <td>-0.319376</td>\n",
       "      <td>-0.391078</td>\n",
       "      <td>...</td>\n",
       "      <td>0.014298</td>\n",
       "      <td>-0.269116</td>\n",
       "      <td>0.023498</td>\n",
       "      <td>-0.142238</td>\n",
       "      <td>0.042028</td>\n",
       "      <td>-0.050875</td>\n",
       "      <td>0.0</td>\n",
       "      <td>0</td>\n",
       "      <td>7c673636-c18d-4c43-895a-eeadd92ef1ef</td>\n",
       "      <td>TEST</td>\n",
       "    </tr>\n",
       "    <tr>\n",
       "      <th>3</th>\n",
       "      <td>0</td>\n",
       "      <td>0.927522</td>\n",
       "      <td>[{'feature': 'V4', 'attribution': 0.4211188048...</td>\n",
       "      <td>-2.754863</td>\n",
       "      <td>-2.549228</td>\n",
       "      <td>0.0</td>\n",
       "      <td>56774</td>\n",
       "      <td>1.282808</td>\n",
       "      <td>0.153264</td>\n",
       "      <td>0.111244</td>\n",
       "      <td>...</td>\n",
       "      <td>-0.098736</td>\n",
       "      <td>0.442745</td>\n",
       "      <td>0.643293</td>\n",
       "      <td>0.556626</td>\n",
       "      <td>-0.056407</td>\n",
       "      <td>-0.000733</td>\n",
       "      <td>0.0</td>\n",
       "      <td>0</td>\n",
       "      <td>e5045737-d174-4678-a09a-4c66882fc1fa</td>\n",
       "      <td>TEST</td>\n",
       "    </tr>\n",
       "    <tr>\n",
       "      <th>4</th>\n",
       "      <td>0</td>\n",
       "      <td>0.856012</td>\n",
       "      <td>[{'feature': 'V4', 'attribution': 1.8555161924...</td>\n",
       "      <td>-2.754863</td>\n",
       "      <td>-1.782552</td>\n",
       "      <td>0.0</td>\n",
       "      <td>76342</td>\n",
       "      <td>-1.451765</td>\n",
       "      <td>1.366670</td>\n",
       "      <td>2.351334</td>\n",
       "      <td>...</td>\n",
       "      <td>-0.236058</td>\n",
       "      <td>-1.282084</td>\n",
       "      <td>0.280140</td>\n",
       "      <td>0.656391</td>\n",
       "      <td>0.274136</td>\n",
       "      <td>0.122096</td>\n",
       "      <td>0.0</td>\n",
       "      <td>0</td>\n",
       "      <td>e276f041-ed3f-4fd8-9ef2-aa75362f9b2a</td>\n",
       "      <td>TEST</td>\n",
       "    </tr>\n",
       "  </tbody>\n",
       "</table>\n",
       "<p>5 rows × 39 columns</p>\n",
       "</div>"
      ],
      "text/plain": [
       "   predicted_Class  probability  \\\n",
       "0                0     0.983322   \n",
       "1                0     0.876462   \n",
       "2                0     0.970663   \n",
       "3                0     0.927522   \n",
       "4                0     0.856012   \n",
       "\n",
       "                            top_feature_attributions  \\\n",
       "0  [{'feature': 'V14', 'attribution': -1.43401346...   \n",
       "1  [{'feature': 'V4', 'attribution': 2.1559158191...   \n",
       "2  [{'feature': 'V12', 'attribution': -0.87511240...   \n",
       "3  [{'feature': 'V4', 'attribution': 0.4211188048...   \n",
       "4  [{'feature': 'V4', 'attribution': 1.8555161924...   \n",
       "\n",
       "   baseline_prediction_value  prediction_value  approximation_error    Time  \\\n",
       "0                  -2.754863         -4.076858                  0.0  108552   \n",
       "1                  -2.754863         -1.959342                  0.0  152933   \n",
       "2                  -2.754863         -3.499121                  0.0  169514   \n",
       "3                  -2.754863         -2.549228                  0.0   56774   \n",
       "4                  -2.754863         -1.782552                  0.0   76342   \n",
       "\n",
       "         V1        V2        V3  ...       V23       V24       V25       V26  \\\n",
       "0 -0.800747  1.185243 -1.307864  ...  0.244974  0.081168 -1.856601 -1.159921   \n",
       "1  1.899377  0.520212 -0.397464  ...  0.509313  0.172632 -0.523424 -0.628977   \n",
       "2  1.983349 -0.319376 -0.391078  ...  0.014298 -0.269116  0.023498 -0.142238   \n",
       "3  1.282808  0.153264  0.111244  ... -0.098736  0.442745  0.643293  0.556626   \n",
       "4 -1.451765  1.366670  2.351334  ... -0.236058 -1.282084  0.280140  0.656391   \n",
       "\n",
       "        V27       V28  Amount  Class                        transaction_id  \\\n",
       "0 -0.300115  0.172426     0.0      0  683f3632-4d23-46b1-bc28-bdea77438e0a   \n",
       "1 -0.015943 -0.037275     0.0      0  9b621701-7e1d-44ee-b83f-0872c3feac62   \n",
       "2  0.042028 -0.050875     0.0      0  7c673636-c18d-4c43-895a-eeadd92ef1ef   \n",
       "3 -0.056407 -0.000733     0.0      0  e5045737-d174-4678-a09a-4c66882fc1fa   \n",
       "4  0.274136  0.122096     0.0      0  e276f041-ed3f-4fd8-9ef2-aa75362f9b2a   \n",
       "\n",
       "   splits  \n",
       "0    TEST  \n",
       "1    TEST  \n",
       "2    TEST  \n",
       "3    TEST  \n",
       "4    TEST  \n",
       "\n",
       "[5 rows x 39 columns]"
      ]
     },
     "execution_count": 16,
     "metadata": {},
     "output_type": "execute_result"
    }
   ],
   "source": [
    "explain.head()"
   ]
  },
  {
   "cell_type": "code",
   "execution_count": 17,
   "id": "3645d9e5-b411-40f2-953a-c45a2c160664",
   "metadata": {},
   "outputs": [
    {
     "data": {
      "image/png": "[encoded data removed]",
      "text/plain": [
       "<Figure size 648x648 with 1 Axes>"
      ]
     },
     "metadata": {
      "needs_background": "light"
     },
     "output_type": "display_data"
    }
   ],
   "source": [
    "import matplotlib.pyplot as plt\n",
    "features = []\n",
    "scores = []\n",
    "for k in explain.iloc[0]['top_feature_attributions']:\n",
    "    features.append(k['feature'])\n",
    "    scores.append(k['attribution'])\n",
    "features = [x for _, x in sorted(zip(scores, features))]\n",
    "scores = sorted(scores)\n",
    "fig, ax = plt.subplots()\n",
    "fig.set_size_inches(9, 9)\n",
    "ax.barh(features, scores)\n",
    "fig.show()"
   ]
  },
  {
   "cell_type": "code",
   "execution_count": null,
   "id": "26f987c2-af88-488f-a190-9753749e4c9c",
   "metadata": {},
   "outputs": [],
   "source": []
  }
 ],
 "metadata": {
  "environment": {
   "kernel": "python3",
   "name": "tf2-gpu.2-3.m90",
   "type": "gcloud",
   "uri": "gcr.io/deeplearning-platform-release/tf2-gpu.2-3:m90"
  },
  "kernelspec": {
   "display_name": "Python 3",
   "language": "python",
   "name": "python3"
  },
  "language_info": {
   "codemirror_mode": {
    "name": "ipython",
    "version": 3
   },
   "file_extension": ".py",
   "mimetype": "text/x-python",
   "name": "python",
   "nbconvert_exporter": "python",
   "pygments_lexer": "ipython3",
   "version": "3.7.12"
  }
 },
 "nbformat": 4,
 "nbformat_minor": 5
}
