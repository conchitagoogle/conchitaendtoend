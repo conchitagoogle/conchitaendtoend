{
 "cells": [
  {
   "cell_type": "markdown",
   "id": "ffc0d1a3",
   "metadata": {},
   "source": [
    "# 5 - Vertex AI + BQML - Online Predictions with BQML Models\n",
    "\n",
    "Models built with BigQuery ML (BQML), like the one in (03a), can also be exported for use and deployment outside of BigQuery.  A Vertex AI Endpoint can be used for online predictions with an exported model.  This demonstration shows the process of exporting and deploying a BQML model with Vertex AI.\n",
    "\n",
    "\n",
    "\n",
    "### Prerequisites:\n",
    "-  03a - BigQuery Machine Learning (BQML) - Machine Learning with SQL\n",
    "\n",
    "### Overview:\n",
    "-  Export the BigQuery ML model built in (03a) to a GCS bucket URI\n",
    "   -  EXPORT MODEL …\n",
    "-  Use Python Client google.cloud.aiplatform for Vertex AI\n",
    "   -  Upload Model\n",
    "      -  Model - aiplatform.Model.upoad\n",
    "   -  Create Endpoint\n",
    "      -  Endpoint - aiplatform.Endpoint.create\n",
    "   -  Deploy to Endpoint\n",
    "      -  Endpoint.deploy(model=Model)\n",
    "   -  Online Predictions\n",
    "      -  Endpoint.predict\n",
    "\n",
    "### Resources:\n",
    "-  [Export formats for BigQuery ML models](https://cloud.google.com/bigquery-ml/docs/exporting-models)\n",
    "-  [Python Client for Vertex AI](https://googleapis.dev/python/aiplatform/latest/aiplatform.html)\n"
   ]
  },
  {
   "cell_type": "markdown",
   "id": "613afac5",
   "metadata": {},
   "source": [
    "---\n",
    "## Setup"
   ]
  },
  {
   "cell_type": "markdown",
   "id": "dc5e27bc",
   "metadata": {},
   "source": [
    "inputs:"
   ]
  },
  {
   "cell_type": "code",
   "execution_count": 1,
   "id": "ad6661f2",
   "metadata": {},
   "outputs": [],
   "source": [
    "REGION = 'us-central1'\n",
    "PROJECT_ID='qwiklabs-gcp-04-24efb7132888'\n",
    "DATANAME = 'fraud'\n",
    "NOTEBOOK = '5'\n",
    "\n",
    "# Resources\n",
    "DEPLOY_IMAGE='us-docker.pkg.dev/vertex-ai/prediction/tf2-cpu.2-3:latest'\n",
    "DEPLOY_COMPUTE = 'n1-standard-4'\n",
    "\n",
    "# Model Training\n",
    "VAR_TARGET = 'Class'\n",
    "VAR_OMIT = 'transaction_id' # add more variables to the string with space delimiters"
   ]
  },
  {
   "cell_type": "markdown",
   "id": "cf050841",
   "metadata": {},
   "source": [
    "packages:"
   ]
  },
  {
   "cell_type": "code",
   "execution_count": 2,
   "id": "a91d32df",
   "metadata": {},
   "outputs": [],
   "source": [
    "from google.cloud import aiplatform\n",
    "from datetime import datetime\n",
    "\n",
    "from google.cloud import bigquery\n",
    "from google.protobuf import json_format\n",
    "from google.protobuf.struct_pb2 import Value\n",
    "import json\n",
    "import numpy as np"
   ]
  },
  {
   "cell_type": "markdown",
   "id": "b2686afc",
   "metadata": {},
   "source": [
    "clients:"
   ]
  },
  {
   "cell_type": "code",
   "execution_count": 3,
   "id": "2d1777a5",
   "metadata": {},
   "outputs": [],
   "source": [
    "aiplatform.init(project=PROJECT_ID, location=REGION)\n",
    "bigquery = bigquery.Client()"
   ]
  },
  {
   "cell_type": "markdown",
   "id": "6d6a7643",
   "metadata": {},
   "source": [
    "parameters:"
   ]
  },
  {
   "cell_type": "code",
   "execution_count": 4,
   "id": "d3ba70ba",
   "metadata": {},
   "outputs": [],
   "source": [
    "TIMESTAMP = datetime.now().strftime(\"%Y%m%d%H%M%S\")\n",
    "BUCKET = \"conchitademomlopsendtoend\"\n",
    "URI = f\"gs://{BUCKET}/{DATANAME}/models/{NOTEBOOK}\"\n",
    "params = {\"URI\": URI}\n",
    "DIR = f\"temp/{NOTEBOOK}\""
   ]
  },
  {
   "cell_type": "markdown",
   "id": "cb02dbd6",
   "metadata": {},
   "source": [
    "environment:"
   ]
  },
  {
   "cell_type": "code",
   "execution_count": 5,
   "id": "cc2f1b43",
   "metadata": {},
   "outputs": [],
   "source": [
    "!rm -rf {DIR}\n",
    "!mkdir -p {DIR}"
   ]
  },
  {
   "cell_type": "markdown",
   "id": "e94caa8b",
   "metadata": {},
   "source": [
    "---\n",
    "## Export the BigQuery Model\n",
    "\n",
    "Export the BigQuery Model:\n",
    "- https://cloud.google.com/bigquery-ml/docs/exporting-models"
   ]
  },
  {
   "cell_type": "code",
   "execution_count": 6,
   "id": "e3851cbd",
   "metadata": {},
   "outputs": [],
   "source": [
    "export = bigquery.query(query = f\"EXPORT MODEL {DATANAME}.{DATANAME}_lr OPTIONS(URI = '{URI}')\")"
   ]
  },
  {
   "cell_type": "code",
   "execution_count": 7,
   "id": "670a6c33",
   "metadata": {},
   "outputs": [
    {
     "data": {
      "text/plain": [
       "<google.cloud.bigquery.table._EmptyRowIterator at 0x7f655bd9e050>"
      ]
     },
     "execution_count": 7,
     "metadata": {},
     "output_type": "execute_result"
    }
   ],
   "source": [
    "export.result()"
   ]
  },
  {
   "cell_type": "markdown",
   "id": "0a19ae22",
   "metadata": {},
   "source": [
    "---\n",
    "## Serving"
   ]
  },
  {
   "cell_type": "markdown",
   "id": "e6e5e9a6",
   "metadata": {},
   "source": [
    "### Upload The Model\n",
    "https://googleapis.dev/python/aiplatform/latest/aiplatform.html?highlight=aiplatform%20model%20upload#google.cloud.aiplatform.Model.upload"
   ]
  },
  {
   "cell_type": "code",
   "execution_count": 8,
   "id": "d76901c6",
   "metadata": {},
   "outputs": [
    {
     "name": "stdout",
     "output_type": "stream",
     "text": [
      "INFO:google.cloud.aiplatform.models:Creating Model\n",
      "INFO:google.cloud.aiplatform.models:Create Model backing LRO: projects/948421954571/locations/us-central1/models/5499198610228641792/operations/2509310453432188928\n",
      "INFO:google.cloud.aiplatform.models:Model created. Resource name: projects/948421954571/locations/us-central1/models/5499198610228641792\n",
      "INFO:google.cloud.aiplatform.models:To use this Model in another session:\n",
      "INFO:google.cloud.aiplatform.models:model = aiplatform.Model('projects/948421954571/locations/us-central1/models/5499198610228641792')\n"
     ]
    }
   ],
   "source": [
    "model = aiplatform.Model.upload(\n",
    "    display_name = f'{NOTEBOOK}_{DATANAME}_{TIMESTAMP}',\n",
    "    serving_container_image_uri = DEPLOY_IMAGE,\n",
    "    artifact_uri = URI,\n",
    "    labels = {'notebook':f'{NOTEBOOK}'}\n",
    ")"
   ]
  },
  {
   "cell_type": "code",
   "execution_count": 9,
   "id": "24ee6764",
   "metadata": {},
   "outputs": [
    {
     "data": {
      "text/plain": [
       "'5_fraud_20220320115846'"
      ]
     },
     "execution_count": 9,
     "metadata": {},
     "output_type": "execute_result"
    }
   ],
   "source": [
    "model.display_name"
   ]
  },
  {
   "cell_type": "markdown",
   "id": "034f0c19",
   "metadata": {},
   "source": [
    "### Create An Endpoint"
   ]
  },
  {
   "cell_type": "code",
   "execution_count": 10,
   "id": "93224b2d",
   "metadata": {},
   "outputs": [
    {
     "name": "stdout",
     "output_type": "stream",
     "text": [
      "INFO:google.cloud.aiplatform.models:Creating Endpoint\n",
      "INFO:google.cloud.aiplatform.models:Create Endpoint backing LRO: projects/948421954571/locations/us-central1/endpoints/230149773926072320/operations/3824361544624373760\n",
      "INFO:google.cloud.aiplatform.models:Endpoint created. Resource name: projects/948421954571/locations/us-central1/endpoints/230149773926072320\n",
      "INFO:google.cloud.aiplatform.models:To use this Endpoint in another session:\n",
      "INFO:google.cloud.aiplatform.models:endpoint = aiplatform.Endpoint('projects/948421954571/locations/us-central1/endpoints/230149773926072320')\n"
     ]
    }
   ],
   "source": [
    "endpoint = aiplatform.Endpoint.create(\n",
    "    display_name = f'{NOTEBOOK}_{DATANAME}_{TIMESTAMP}',\n",
    "    labels = {'notebook':f'{NOTEBOOK}'}\n",
    ")"
   ]
  },
  {
   "cell_type": "code",
   "execution_count": 11,
   "id": "7285cced",
   "metadata": {},
   "outputs": [
    {
     "data": {
      "text/plain": [
       "'5_fraud_20220320115846'"
      ]
     },
     "execution_count": 11,
     "metadata": {},
     "output_type": "execute_result"
    }
   ],
   "source": [
    "endpoint.display_name"
   ]
  },
  {
   "cell_type": "markdown",
   "id": "9158992e",
   "metadata": {},
   "source": [
    "### Deploy Model To Endpoint"
   ]
  },
  {
   "cell_type": "code",
   "execution_count": 12,
   "id": "040707a6",
   "metadata": {},
   "outputs": [
    {
     "name": "stdout",
     "output_type": "stream",
     "text": [
      "INFO:google.cloud.aiplatform.models:Deploying Model projects/948421954571/locations/us-central1/models/5499198610228641792 to Endpoint : projects/948421954571/locations/us-central1/endpoints/230149773926072320\n",
      "INFO:google.cloud.aiplatform.models:Deploy Endpoint model backing LRO: projects/948421954571/locations/us-central1/endpoints/230149773926072320/operations/7769514818200928256\n",
      "INFO:google.cloud.aiplatform.models:Endpoint model deployed. Resource name: projects/948421954571/locations/us-central1/endpoints/230149773926072320\n"
     ]
    }
   ],
   "source": [
    "endpoint.deploy(\n",
    "    model = model,\n",
    "    deployed_model_display_name = f'{NOTEBOOK}_{DATANAME}_{TIMESTAMP}',\n",
    "    traffic_percentage = 100,\n",
    "    machine_type = DEPLOY_COMPUTE,\n",
    "    min_replica_count = 1,\n",
    "    max_replica_count = 1\n",
    ")"
   ]
  },
  {
   "cell_type": "markdown",
   "id": "087da7cc",
   "metadata": {},
   "source": [
    "---\n",
    "## Prediction"
   ]
  },
  {
   "cell_type": "markdown",
   "id": "46bc4c06",
   "metadata": {},
   "source": [
    "### Prepare a record for prediction: instance and parameters lists"
   ]
  },
  {
   "cell_type": "code",
   "execution_count": 13,
   "id": "b8f349ad",
   "metadata": {},
   "outputs": [],
   "source": [
    "pred = bigquery.query(query = f\"SELECT * FROM {DATANAME}.{DATANAME}_prepped WHERE splits='TEST' LIMIT 10\").to_dataframe()"
   ]
  },
  {
   "cell_type": "code",
   "execution_count": 14,
   "id": "8ed5d125",
   "metadata": {},
   "outputs": [
    {
     "data": {
      "text/html": [
       "<div>\n",
       "<style scoped>\n",
       "    .dataframe tbody tr th:only-of-type {\n",
       "        vertical-align: middle;\n",
       "    }\n",
       "\n",
       "    .dataframe tbody tr th {\n",
       "        vertical-align: top;\n",
       "    }\n",
       "\n",
       "    .dataframe thead th {\n",
       "        text-align: right;\n",
       "    }\n",
       "</style>\n",
       "<table border=\"1\" class=\"dataframe\">\n",
       "  <thead>\n",
       "    <tr style=\"text-align: right;\">\n",
       "      <th></th>\n",
       "      <th>Time</th>\n",
       "      <th>V1</th>\n",
       "      <th>V2</th>\n",
       "      <th>V3</th>\n",
       "      <th>V4</th>\n",
       "      <th>V5</th>\n",
       "      <th>V6</th>\n",
       "      <th>V7</th>\n",
       "      <th>V8</th>\n",
       "      <th>V9</th>\n",
       "      <th>...</th>\n",
       "      <th>V23</th>\n",
       "      <th>V24</th>\n",
       "      <th>V25</th>\n",
       "      <th>V26</th>\n",
       "      <th>V27</th>\n",
       "      <th>V28</th>\n",
       "      <th>Amount</th>\n",
       "      <th>Class</th>\n",
       "      <th>transaction_id</th>\n",
       "      <th>splits</th>\n",
       "    </tr>\n",
       "  </thead>\n",
       "  <tbody>\n",
       "    <tr>\n",
       "      <th>0</th>\n",
       "      <td>108552</td>\n",
       "      <td>-0.800747</td>\n",
       "      <td>1.185243</td>\n",
       "      <td>-1.307864</td>\n",
       "      <td>-1.021146</td>\n",
       "      <td>-0.501487</td>\n",
       "      <td>-0.280646</td>\n",
       "      <td>-1.055654</td>\n",
       "      <td>0.994632</td>\n",
       "      <td>2.277438</td>\n",
       "      <td>...</td>\n",
       "      <td>0.244974</td>\n",
       "      <td>0.081168</td>\n",
       "      <td>-1.856601</td>\n",
       "      <td>-1.159921</td>\n",
       "      <td>-0.300115</td>\n",
       "      <td>0.172426</td>\n",
       "      <td>0.0</td>\n",
       "      <td>0</td>\n",
       "      <td>683f3632-4d23-46b1-bc28-bdea77438e0a</td>\n",
       "      <td>TEST</td>\n",
       "    </tr>\n",
       "    <tr>\n",
       "      <th>1</th>\n",
       "      <td>152933</td>\n",
       "      <td>1.899377</td>\n",
       "      <td>0.520212</td>\n",
       "      <td>-0.397464</td>\n",
       "      <td>3.492509</td>\n",
       "      <td>0.660067</td>\n",
       "      <td>0.902600</td>\n",
       "      <td>-0.126600</td>\n",
       "      <td>0.209196</td>\n",
       "      <td>-1.032307</td>\n",
       "      <td>...</td>\n",
       "      <td>0.509313</td>\n",
       "      <td>0.172632</td>\n",
       "      <td>-0.523424</td>\n",
       "      <td>-0.628977</td>\n",
       "      <td>-0.015943</td>\n",
       "      <td>-0.037275</td>\n",
       "      <td>0.0</td>\n",
       "      <td>0</td>\n",
       "      <td>9b621701-7e1d-44ee-b83f-0872c3feac62</td>\n",
       "      <td>TEST</td>\n",
       "    </tr>\n",
       "    <tr>\n",
       "      <th>2</th>\n",
       "      <td>169514</td>\n",
       "      <td>1.983349</td>\n",
       "      <td>-0.319376</td>\n",
       "      <td>-0.391078</td>\n",
       "      <td>0.287527</td>\n",
       "      <td>-0.449550</td>\n",
       "      <td>-0.166502</td>\n",
       "      <td>-0.592739</td>\n",
       "      <td>0.006890</td>\n",
       "      <td>0.962290</td>\n",
       "      <td>...</td>\n",
       "      <td>0.014298</td>\n",
       "      <td>-0.269116</td>\n",
       "      <td>0.023498</td>\n",
       "      <td>-0.142238</td>\n",
       "      <td>0.042028</td>\n",
       "      <td>-0.050875</td>\n",
       "      <td>0.0</td>\n",
       "      <td>0</td>\n",
       "      <td>7c673636-c18d-4c43-895a-eeadd92ef1ef</td>\n",
       "      <td>TEST</td>\n",
       "    </tr>\n",
       "    <tr>\n",
       "      <th>3</th>\n",
       "      <td>56774</td>\n",
       "      <td>1.282808</td>\n",
       "      <td>0.153264</td>\n",
       "      <td>0.111244</td>\n",
       "      <td>0.682014</td>\n",
       "      <td>-0.362113</td>\n",
       "      <td>-1.027642</td>\n",
       "      <td>0.192959</td>\n",
       "      <td>-0.227975</td>\n",
       "      <td>0.264107</td>\n",
       "      <td>...</td>\n",
       "      <td>-0.098736</td>\n",
       "      <td>0.442745</td>\n",
       "      <td>0.643293</td>\n",
       "      <td>0.556626</td>\n",
       "      <td>-0.056407</td>\n",
       "      <td>-0.000733</td>\n",
       "      <td>0.0</td>\n",
       "      <td>0</td>\n",
       "      <td>e5045737-d174-4678-a09a-4c66882fc1fa</td>\n",
       "      <td>TEST</td>\n",
       "    </tr>\n",
       "  </tbody>\n",
       "</table>\n",
       "<p>4 rows × 33 columns</p>\n",
       "</div>"
      ],
      "text/plain": [
       "     Time        V1        V2        V3        V4        V5        V6  \\\n",
       "0  108552 -0.800747  1.185243 -1.307864 -1.021146 -0.501487 -0.280646   \n",
       "1  152933  1.899377  0.520212 -0.397464  3.492509  0.660067  0.902600   \n",
       "2  169514  1.983349 -0.319376 -0.391078  0.287527 -0.449550 -0.166502   \n",
       "3   56774  1.282808  0.153264  0.111244  0.682014 -0.362113 -1.027642   \n",
       "\n",
       "         V7        V8        V9  ...       V23       V24       V25       V26  \\\n",
       "0 -1.055654  0.994632  2.277438  ...  0.244974  0.081168 -1.856601 -1.159921   \n",
       "1 -0.126600  0.209196 -1.032307  ...  0.509313  0.172632 -0.523424 -0.628977   \n",
       "2 -0.592739  0.006890  0.962290  ...  0.014298 -0.269116  0.023498 -0.142238   \n",
       "3  0.192959 -0.227975  0.264107  ... -0.098736  0.442745  0.643293  0.556626   \n",
       "\n",
       "        V27       V28  Amount  Class                        transaction_id  \\\n",
       "0 -0.300115  0.172426     0.0      0  683f3632-4d23-46b1-bc28-bdea77438e0a   \n",
       "1 -0.015943 -0.037275     0.0      0  9b621701-7e1d-44ee-b83f-0872c3feac62   \n",
       "2  0.042028 -0.050875     0.0      0  7c673636-c18d-4c43-895a-eeadd92ef1ef   \n",
       "3 -0.056407 -0.000733     0.0      0  e5045737-d174-4678-a09a-4c66882fc1fa   \n",
       "\n",
       "   splits  \n",
       "0    TEST  \n",
       "1    TEST  \n",
       "2    TEST  \n",
       "3    TEST  \n",
       "\n",
       "[4 rows x 33 columns]"
      ]
     },
     "execution_count": 14,
     "metadata": {},
     "output_type": "execute_result"
    }
   ],
   "source": [
    "pred.head(4)"
   ]
  },
  {
   "cell_type": "code",
   "execution_count": 15,
   "id": "20dd66e1",
   "metadata": {},
   "outputs": [],
   "source": [
    "newob = pred[pred.columns[~pred.columns.isin(VAR_OMIT.split()+[VAR_TARGET,'splits'])]].to_dict(orient='records')[0]\n",
    "#newob"
   ]
  },
  {
   "cell_type": "code",
   "execution_count": 16,
   "id": "ff39daac",
   "metadata": {},
   "outputs": [],
   "source": [
    "instances = [json_format.ParseDict(newob, Value())]\n",
    "parameters = json_format.ParseDict({}, Value())"
   ]
  },
  {
   "cell_type": "markdown",
   "id": "dfd7f4ef",
   "metadata": {},
   "source": [
    "### Get Predictions: Python Client"
   ]
  },
  {
   "cell_type": "code",
   "execution_count": 17,
   "id": "9d95d9ba",
   "metadata": {},
   "outputs": [
    {
     "data": {
      "text/plain": [
       "Prediction(predictions=[{'Class_values': ['1', '0'], 'predicted_Class': ['0'], 'Class_probs': [0.0166778101445207, 0.9833221898554793]}], deployed_model_id='1323169885051682816', explanations=None)"
      ]
     },
     "execution_count": 17,
     "metadata": {},
     "output_type": "execute_result"
    }
   ],
   "source": [
    "prediction = endpoint.predict(instances=instances, parameters=parameters)\n",
    "prediction"
   ]
  },
  {
   "cell_type": "code",
   "execution_count": 18,
   "id": "559eda29",
   "metadata": {},
   "outputs": [
    {
     "data": {
      "text/plain": [
       "{'Class_values': ['1', '0'],\n",
       " 'predicted_Class': ['0'],\n",
       " 'Class_probs': [0.0166778101445207, 0.9833221898554793]}"
      ]
     },
     "execution_count": 18,
     "metadata": {},
     "output_type": "execute_result"
    }
   ],
   "source": [
    "prediction.predictions[0]#['classes'][np.argmax(prediction.predictions[0]['scores'])]"
   ]
  },
  {
   "cell_type": "code",
   "execution_count": 19,
   "id": "4edcf178",
   "metadata": {},
   "outputs": [
    {
     "data": {
      "text/plain": [
       "'0'"
      ]
     },
     "execution_count": 19,
     "metadata": {},
     "output_type": "execute_result"
    }
   ],
   "source": [
    "prediction.predictions[0][f'{VAR_TARGET}_values'][np.argmax(prediction.predictions[0][f'{VAR_TARGET}_probs'])]"
   ]
  },
  {
   "cell_type": "markdown",
   "id": "5cec468a",
   "metadata": {},
   "source": [
    "### Get Predictions: REST"
   ]
  },
  {
   "cell_type": "code",
   "execution_count": 20,
   "id": "eb32a338",
   "metadata": {},
   "outputs": [],
   "source": [
    "with open(f'{DIR}/request.json','w') as file:\n",
    "    file.write(json.dumps({\"instances\": [newob]}))"
   ]
  },
  {
   "cell_type": "code",
   "execution_count": 21,
   "id": "f4006e2a",
   "metadata": {},
   "outputs": [
    {
     "name": "stderr",
     "output_type": "stream",
     "text": [
      "E0320 12:05:33.050984586   30433 fork_posix.cc:70]           Fork support is only compatible with the epoll1 and poll polling strategies\n"
     ]
    },
    {
     "name": "stdout",
     "output_type": "stream",
     "text": [
      "{\n",
      "  \"predictions\": [\n",
      "    {\n",
      "      \"Class_probs\": [\n",
      "        0.0166778101445207,\n",
      "        0.98332218985547926\n",
      "      ],\n",
      "      \"predicted_Class\": [\n",
      "        \"0\"\n",
      "      ],\n",
      "      \"Class_values\": [\n",
      "        \"1\",\n",
      "        \"0\"\n",
      "      ]\n",
      "    }\n",
      "  ],\n",
      "  \"deployedModelId\": \"1323169885051682816\",\n",
      "  \"model\": \"projects/948421954571/locations/us-central1/models/5499198610228641792\",\n",
      "  \"modelDisplayName\": \"5_fraud_20220320115846\"\n",
      "}\n"
     ]
    }
   ],
   "source": [
    "!curl -X POST \\\n",
    "-H \"Authorization: Bearer \"$(gcloud auth application-default print-access-token) \\\n",
    "-H \"Content-Type: application/json; charset=utf-8\" \\\n",
    "-d @{DIR}/request.json \\\n",
    "https://{REGION}-aiplatform.googleapis.com/v1/{endpoint.resource_name}:predict"
   ]
  },
  {
   "cell_type": "markdown",
   "id": "4edee92e",
   "metadata": {},
   "source": [
    "### Get Predictions: gcloud (CLI)"
   ]
  },
  {
   "cell_type": "code",
   "execution_count": 22,
   "id": "3d8649b2",
   "metadata": {},
   "outputs": [
    {
     "name": "stderr",
     "output_type": "stream",
     "text": [
      "E0320 12:05:34.106787416   30433 fork_posix.cc:70]           Fork support is only compatible with the epoll1 and poll polling strategies\n"
     ]
    },
    {
     "name": "stdout",
     "output_type": "stream",
     "text": [
      "Using endpoint [https://us-central1-prediction-aiplatform.googleapis.com/]\n",
      "[{'Class_probs': [0.0166778101445207, 0.9833221898554793], 'Class_values': ['1', '0'], 'predicted_Class': ['0']}]\n"
     ]
    }
   ],
   "source": [
    "!gcloud beta ai endpoints predict {endpoint.name.rsplit('/',1)[-1]} --region={REGION} --json-request={DIR}/request.json"
   ]
  },
  {
   "cell_type": "code",
   "execution_count": null,
   "id": "9942e002-75ef-4e87-be30-177fbe724abc",
   "metadata": {},
   "outputs": [],
   "source": []
  }
 ],
 "metadata": {
  "environment": {
   "kernel": "python3",
   "name": "tf2-gpu.2-3.m90",
   "type": "gcloud",
   "uri": "gcr.io/deeplearning-platform-release/tf2-gpu.2-3:m90"
  },
  "kernelspec": {
   "display_name": "Python 3",
   "language": "python",
   "name": "python3"
  },
  "language_info": {
   "codemirror_mode": {
    "name": "ipython",
    "version": 3
   },
   "file_extension": ".py",
   "mimetype": "text/x-python",
   "name": "python",
   "nbconvert_exporter": "python",
   "pygments_lexer": "ipython3",
   "version": "3.7.12"
  }
 },
 "nbformat": 4,
 "nbformat_minor": 5
}
